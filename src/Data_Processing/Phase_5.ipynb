{
    "cells": [
        {
            "cell_type": "markdown",
            "metadata": {},
            "source": [
                "# Description\n"
            ]
        },
        {
            "cell_type": "markdown",
            "metadata": {},
            "source": [
                "Is about splitting all_cats_done.cvs to smaller parts.\n"
            ]
        },
        {
            "cell_type": "markdown",
            "metadata": {},
            "source": [
                "# Start\n"
            ]
        },
        {
            "cell_type": "code",
            "execution_count": 31,
            "metadata": {},
            "outputs": [],
            "source": [
                "import os\n",
                "from pathlib import Path\n",
                "\n",
                "import pandas as pd\n",
                "\n",
                "from src.utils import load_data_config"
            ]
        },
        {
            "cell_type": "code",
            "execution_count": 32,
            "metadata": {},
            "outputs": [],
            "source": [
                "data_paths, column_types = load_data_config()\n",
                "data_path_processed = Path(data_paths[\"processed\"])\n",
                "data_path_helper = Path(data_paths[\"helper\"])"
            ]
        },
        {
            "cell_type": "markdown",
            "metadata": {},
            "source": [
                "# Data Processing\n"
            ]
        },
        {
            "cell_type": "code",
            "execution_count": 33,
            "metadata": {},
            "outputs": [],
            "source": [
                "output_path = \"../../data/final_data/\"\n",
                "os.makedirs(output_path, exist_ok=True)\n",
                "\n",
                "all_cats_df = pd.read_csv(\n",
                "    f\"{data_path_processed}/all_cats_done.csv\", index_col=\"cat_id\", dtype=column_types, low_memory=False\n",
                ")\n",
                "\n",
                "cats_df = all_cats_df[\n",
                "    [\n",
                "        \"name\",\n",
                "        \"date_of_birth\",\n",
                "        \"gender\",\n",
                "        \"registration_number_current\",\n",
                "        \"title_before\",\n",
                "        \"title_after\",\n",
                "        \"chip\",\n",
                "        \"father_id\",\n",
                "        \"mother_id\",\n",
                "    ]\n",
                "].copy()"
            ]
        },
        {
            "cell_type": "markdown",
            "metadata": {},
            "source": [
                "## Breed\n"
            ]
        },
        {
            "cell_type": "code",
            "execution_count": 34,
            "metadata": {},
            "outputs": [],
            "source": [
                "def export_and_link_breed(df: pd.DataFrame) -> pd.DataFrame:\n",
                "    \"\"\"\n",
                "    Export the sorted unique breed codes to a CSV file and link them to the cats dataframe.\n",
                "    The breed codes are extracted from the all_cats_df dataframe, and a mapping is created\n",
                "    to link the breed codes to their respective IDs.\n",
                "    'unknown' is assigned ID -1, and all other breed codes get consecutive IDs.\n",
                "\n",
                "    :param df: pd.DataFrame: The cats dataframe to which the breed_code_id will be added.\n",
                "    :returns: pd.DataFrame: The updated cats dataframe with the breed_code_id column added.\n",
                "    \"\"\"\n",
                "\n",
                "    breed_df = all_cats_df[[\"breed_code\", \"full_breed_name\"]].drop_duplicates().reset_index(drop=True)\n",
                "    breed_df = breed_df[breed_df[\"breed_code\"] != \"unknown\"]\n",
                "\n",
                "    breed_df = breed_df.sort_values(by=[\"breed_code\"])\n",
                "    breed_df.index = range(1, len(breed_df) + 1)\n",
                "\n",
                "    unknown_df = pd.DataFrame({\"breed_code\": \"unknown\", \"full_breed_name\": \"unknown\"}, index=[-1])\n",
                "    breed_df = pd.concat([unknown_df, breed_df])\n",
                "\n",
                "    breed_df.to_csv(f\"{output_path}breeds.csv\", index_label=\"id\")\n",
                "\n",
                "    breed_mapping = dict(zip(breed_df[\"breed_code\"], breed_df.index))\n",
                "\n",
                "    df[\"breed_code_id\"] = all_cats_df[\"breed_code\"].map(breed_mapping)\n",
                "\n",
                "    return df"
            ]
        },
        {
            "cell_type": "code",
            "execution_count": 35,
            "metadata": {},
            "outputs": [],
            "source": [
                "cats_df = export_and_link_breed(cats_df)"
            ]
        },
        {
            "cell_type": "markdown",
            "metadata": {},
            "source": [
                "## Color\n"
            ]
        },
        {
            "cell_type": "code",
            "execution_count": null,
            "metadata": {},
            "outputs": [],
            "source": [
                "def export_and_link_color(df: pd.DataFrame) -> pd.DataFrame:\n",
                "    \"\"\"\n",
                "    Export the sorted unique color data to a CSV file and link them to the cats dataframe.\n",
                "    The color data is extracted from the all_cats_df dataframe using breed_code and color_code,\n",
                "    and a mapping is created to link these color combinations to their respective IDs.\n",
                "    'unknown' is assigned ID -1, and all other values get consecutive IDs.\n",
                "\n",
                "    :param df: pd.DataFrame: The cats dataframe to which the color_id will be added.\n",
                "    :returns: pd.DataFrame: The updated cats dataframe with the color_id column added.\n",
                "    \"\"\"\n",
                "\n",
                "    color_df = all_cats_df[\n",
                "        [\n",
                "            \"breed_code\",\n",
                "            \"color_code\",\n",
                "            \"color_definition\",\n",
                "            \"full_breed_name\",\n",
                "            \"breed_group\",\n",
                "            \"breed_category\",\n",
                "        ]\n",
                "    ]\n",
                "    color_df = color_df.drop_duplicates(subset=[\"breed_code\", \"color_code\"])\n",
                "\n",
                "    color_df = color_df[(color_df[\"breed_code\"] != \"unknown\") & (color_df[\"color_code\"] != \"unknown\")]\n",
                "\n",
                "    color_df = color_df.sort_values(by=[\"breed_code\", \"color_code\"])\n",
                "    color_df.index = range(1, len(color_df) + 1)\n",
                "\n",
                "    unknown_df = pd.DataFrame(\n",
                "        {\n",
                "            \"breed_code\": [\"unknown\"],\n",
                "            \"color_code\": [\"unknown\"],\n",
                "            \"color_definition\": [\"unknown\"],\n",
                "            \"full_breed_name\": [\"unknown\"],\n",
                "            \"breed_group\": [\"unknown\"],\n",
                "            \"breed_category\": [\"unknown\"],\n",
                "        },\n",
                "        index=[-1],\n",
                "    )\n",
                "    color_df = pd.concat([unknown_df, color_df])\n",
                "\n",
                "    color_df.to_csv(f\"{output_path}colors.csv\", index_label=\"id\")\n",
                "\n",
                "    color_mapping = {}\n",
                "    for idx, row in color_df.iterrows():\n",
                "        key = (row[\"breed_code\"], row[\"color_code\"])\n",
                "        color_mapping[key] = idx\n",
                "\n",
                "    breed_color_tuples = list(zip(all_cats_df[\"breed_code\"], all_cats_df[\"color_code\"]))\n",
                "    df[\"color_id\"] = [color_mapping.get(bc_tuple, -1) for bc_tuple in breed_color_tuples]\n",
                "\n",
                "    return df"
            ]
        },
        {
            "cell_type": "code",
            "execution_count": 37,
            "metadata": {},
            "outputs": [],
            "source": [
                "cats_df = export_and_link_color(cats_df)"
            ]
        },
        {
            "cell_type": "markdown",
            "metadata": {},
            "source": [
                "## Country\n"
            ]
        },
        {
            "cell_type": "code",
            "execution_count": null,
            "metadata": {},
            "outputs": [],
            "source": [
                "def export_and_link_country(df: pd.DataFrame) -> pd.DataFrame:\n",
                "    \"\"\"\n",
                "    Export the sorted unique country names to a CSV file and link them to the cats dataframe.\n",
                "    The country names are extracted from the all_cats_df dataframe, and a mapping is created\n",
                "    to link the country names to their respective IDs.\n",
                "\n",
                "    :param df: pd.DataFrame: The cats dataframe to which the country_id will be added.\n",
                "    :returns: pd.DataFrame: The updated cats dataframe with the country_id column added.\n",
                "    \"\"\"\n",
                "\n",
                "    unique_countries_origin = all_cats_df[\"country_origin_name\"].unique()\n",
                "    unique_countries_current = all_cats_df[\"country_current_name\"].unique()\n",
                "    unique_countries = set(unique_countries_origin) | set(unique_countries_current)\n",
                "\n",
                "    unique_countries.discard(\"unknown\")\n",
                "\n",
                "    countries_df = pd.DataFrame(unique_countries, columns=[\"country_name\"])\n",
                "    country_codes_iso_original = pd.read_csv(\n",
                "        f\"{data_path_helper}/country_codes_iso_original.csv\",\n",
                "        usecols=[\"alpha-2\", \"alpha-3\", \"iso_num\", \"country_name\"],\n",
                "        keep_default_na=False,\n",
                "    )\n",
                "    country_codes_iso_original = country_codes_iso_original.rename(\n",
                "        columns={\"alpha-2\": \"alpha_2\", \"alpha-3\": \"alpha_3\", \"iso_num\": \"iso_numeric\"}\n",
                "    )\n",
                "    countries_df = pd.merge(countries_df, country_codes_iso_original, how=\"left\", on=\"country_name\")\n",
                "\n",
                "    countries_df = countries_df.sort_values(by=[\"country_name\"])\n",
                "    countries_df.index = range(1, len(countries_df) + 1)\n",
                "\n",
                "    unknown_df = pd.DataFrame(\n",
                "        {\"country_name\": [\"unknown\"], \"alpha_2\": [\"unknown\"], \"alpha_3\": [\"unknown\"], \"iso_numeric\": [-1]},\n",
                "        index=[-1],\n",
                "    )\n",
                "    countries_df = pd.concat([unknown_df, countries_df])\n",
                "\n",
                "    countries_df.to_csv(f\"{output_path}countries.csv\", index_label=\"id\")\n",
                "\n",
                "    country_mapping = dict(zip(countries_df[\"country_name\"], countries_df.index))\n",
                "\n",
                "    df[\"country_origin_id\"] = all_cats_df[\"country_origin_name\"].map(country_mapping)\n",
                "    df[\"country_current_id\"] = all_cats_df[\"country_current_name\"].map(country_mapping)\n",
                "\n",
                "    return df"
            ]
        },
        {
            "cell_type": "code",
            "execution_count": 39,
            "metadata": {},
            "outputs": [],
            "source": [
                "cats_df = export_and_link_country(cats_df)"
            ]
        },
        {
            "cell_type": "markdown",
            "metadata": {},
            "source": [
                "## Cattery\n"
            ]
        },
        {
            "cell_type": "code",
            "execution_count": null,
            "metadata": {},
            "outputs": [],
            "source": [
                "def export_and_link_cattery(df: pd.DataFrame) -> pd.DataFrame:\n",
                "    \"\"\"\n",
                "    Export the sorted unique cattery names to a CSV file and link them to the cats dataframe.\n",
                "    The cattery names are extracted from the all_cats_df dataframe, and a mapping is created\n",
                "    to link the cattery names to their respective IDs.\n",
                "\n",
                "    :param df: pd.DataFrame: The cats dataframe to which the cattery_id will be added.\n",
                "    :returns: pd.DataFrame: The updated cats dataframe with the cattery_id column added.\n",
                "    \"\"\"\n",
                "\n",
                "    cattery_df = pd.DataFrame(all_cats_df[\"cattery_name\"].unique(), columns=[\"cattery_name\"])\n",
                "\n",
                "    cattery_df = cattery_df[cattery_df[\"cattery_name\"] != \"unknown\"]\n",
                "\n",
                "    cattery_df = cattery_df.sort_values(by=[\"cattery_name\"])\n",
                "    cattery_df.index = range(1, len(cattery_df) + 1)\n",
                "\n",
                "    unknown_df = pd.DataFrame({\"cattery_name\": [\"unknown\"]}, index=[-1])\n",
                "    cattery_df = pd.concat([unknown_df, cattery_df])\n",
                "\n",
                "    cattery_df.to_csv(f\"{output_path}catteries.csv\", index_label=\"id\")\n",
                "\n",
                "    cattery_mapping = dict(zip(cattery_df[\"cattery_name\"], cattery_df.index))\n",
                "\n",
                "    df[\"cattery_id\"] = all_cats_df[\"cattery_name\"].map(cattery_mapping)\n",
                "\n",
                "    return df"
            ]
        },
        {
            "cell_type": "code",
            "execution_count": 41,
            "metadata": {},
            "outputs": [],
            "source": [
                "cats_df = export_and_link_cattery(cats_df)"
            ]
        },
        {
            "cell_type": "markdown",
            "metadata": {},
            "source": [
                "## SRC DB\n"
            ]
        },
        {
            "cell_type": "code",
            "execution_count": null,
            "metadata": {},
            "outputs": [],
            "source": [
                "def export_and_link_src_db(df: pd.DataFrame) -> pd.DataFrame:\n",
                "    \"\"\"\n",
                "    Export the sorted unique source database names to a CSV file and link them to the cats dataframe.\n",
                "    The source database names are extracted from the all_cats_df dataframe, and a mapping is created\n",
                "    to link the source database names to their respective IDs.\n",
                "\n",
                "    :param df: pd.DataFrame: The cats dataframe to which the src_db_id will be added.\n",
                "    :returns: pd.DataFrame: The updated cats dataframe with the src_db_id column added.\n",
                "    \"\"\"\n",
                "\n",
                "    src_db_df = pd.DataFrame(all_cats_df[\"source_db_name\"].unique(), columns=[\"source_db_name\"])\n",
                "\n",
                "    src_db_df = src_db_df[src_db_df[\"source_db_name\"] != \"unknown\"]\n",
                "\n",
                "    src_db_df = src_db_df.sort_values(by=[\"source_db_name\"])\n",
                "    src_db_df.index = range(1, len(src_db_df) + 1)\n",
                "\n",
                "    unknown_df = pd.DataFrame({\"source_db_name\": [\"unknown\"]}, index=[-1])\n",
                "    src_db_df = pd.concat([unknown_df, src_db_df])\n",
                "\n",
                "    src_db_df.to_csv(f\"{output_path}source_dbs.csv\", index_label=\"id\")\n",
                "\n",
                "    src_db_mapping = dict(zip(src_db_df[\"source_db_name\"], src_db_df.index))\n",
                "    src_db_mapping[\"unknown\"] = -1\n",
                "\n",
                "    df[\"source_db_id\"] = all_cats_df[\"source_db_name\"].map(src_db_mapping)\n",
                "\n",
                "    return df"
            ]
        },
        {
            "cell_type": "code",
            "execution_count": 43,
            "metadata": {},
            "outputs": [],
            "source": [
                "cats_df = export_and_link_src_db(cats_df)"
            ]
        },
        {
            "cell_type": "code",
            "execution_count": 44,
            "metadata": {},
            "outputs": [],
            "source": [
                "cats_df.to_csv(f\"{output_path}cats.csv\", index_label=\"id\")"
            ]
        }
    ],
    "metadata": {
        "kernelspec": {
            "display_name": "BachelorProject_Babiar",
            "language": "python",
            "name": "python3"
        },
        "language_info": {
            "codemirror_mode": {
                "name": "ipython",
                "version": 3
            },
            "file_extension": ".py",
            "mimetype": "text/x-python",
            "name": "python",
            "nbconvert_exporter": "python",
            "pygments_lexer": "ipython3",
            "version": "3.12.10"
        }
    },
    "nbformat": 4,
    "nbformat_minor": 2
}
