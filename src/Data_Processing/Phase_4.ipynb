{
    "cells": [
        {
            "cell_type": "markdown",
            "metadata": {},
            "source": [
                "# Description\n"
            ]
        },
        {
            "cell_type": "markdown",
            "metadata": {},
            "source": [
                "Is about fixing other small issues our dataset has, that were not addressed in my tutor's project. These fixes include:\n",
                "\n",
                "-   Fixing \"reg_num\" column, which has problem with having consistent format.\n"
            ]
        },
        {
            "cell_type": "markdown",
            "metadata": {},
            "source": [
                "# Start\n"
            ]
        },
        {
            "cell_type": "code",
            "execution_count": null,
            "metadata": {},
            "outputs": [],
            "source": [
                "import re\n",
                "from pathlib import Path\n",
                "\n",
                "import pandas as pd\n",
                "\n",
                "from src.utils import load_data_config"
            ]
        },
        {
            "cell_type": "code",
            "execution_count": 18,
            "metadata": {},
            "outputs": [],
            "source": [
                "data_paths, column_types = load_data_config()\n",
                "data_path_processed = Path(data_paths[\"processed\"])"
            ]
        },
        {
            "cell_type": "markdown",
            "metadata": {},
            "source": [
                "# Data Processing\n"
            ]
        },
        {
            "cell_type": "markdown",
            "metadata": {},
            "source": [
                "## Special words\n"
            ]
        },
        {
            "cell_type": "markdown",
            "metadata": {},
            "source": [
                "### Definitions\n"
            ]
        },
        {
            "cell_type": "code",
            "execution_count": null,
            "metadata": {},
            "outputs": [],
            "source": [
                "def remove_leading_whitespace(text: str) -> str:\n",
                "    \"\"\"\n",
                "    Remove leading whitespace from a string and handle special characters.\n",
                "\n",
                "    This function handles:\n",
                "    - Various types of whitespace at the beginning\n",
                "    - Special Unicode characters like fullwidth parentheses\n",
                "    - Numero signs (№)\n",
                "\n",
                "    :param text: String to clean.\n",
                "    :returns: String with leading whitespace removed and special characters fixed.\n",
                "    \"\"\"\n",
                "    if not isinstance(text, str):\n",
                "        return text\n",
                "\n",
                "    cleaned = re.sub(r\"^\\s+\", \"\", text)\n",
                "\n",
                "    if cleaned and ord(cleaned[0]) == 0xFF08:  # Fullwidth left parenthesis \"（\"\n",
                "        cleaned = \"(\" + cleaned[1:]\n",
                "\n",
                "    return cleaned"
            ]
        },
        {
            "cell_type": "code",
            "execution_count": null,
            "metadata": {},
            "outputs": [],
            "source": [
                "def convert_to_unknown(df: pd.DataFrame) -> pd.DataFrame:\n",
                "    \"\"\"\n",
                "    Converts some registration_number_current values to \"unknown\".\n",
                "    Only words meaning \"unknown\" or \"processing\" will be converted.\n",
                "\n",
                "    :param df: DataFrame to convert.\n",
                "    :returns: DataFrame with all registration_number_current values set to \"unknown\".\n",
                "    \"\"\"\n",
                "\n",
                "    list_of_unknowns = [\n",
                "        \"alkup nro ei tiedossa\",\n",
                "        \"applayed forзадана\",\n",
                "        \"DM\",\n",
                "        \"DVM\",\n",
                "        \"e\",\n",
                "        \"ei ole\",\n",
                "        \"ei regiserissä\",\n",
                "        \"ei registerissä\",\n",
                "        \"ei rek\",\n",
                "        \"ei\",\n",
                "        \"en tramite\",\n",
                "        \"Enfi in corso\",\n",
                "        \"Enfi\",\n",
                "        \"eos\",\n",
                "        \"EVBL\",\n",
                "        \"For breeding\",\n",
                "        \"http://ru.cat-office.com/uploaded/documents/c3/e8/7c/96/5e/a8/35/3c/20/14/40/7b/4a/46/70/da/ed387e06a34af699ce36aa3890e506cb.pdf\",\n",
                "        \"n/n\",\n",
                "        \"non-reg\",\n",
                "        \"not 000\",\n",
                "        \"not\",\n",
                "        \"not000\",\n",
                "        \"pending\",\n",
                "        \"rekisteröimätön eur.rex.hybr.\",\n",
                "        \"rekisteröimätön\",\n",
                "        \"rekisteröinti kesken\",\n",
                "        \"sadsa\",\n",
                "        \"under reg\",\n",
                "        \"under regis\",\n",
                "        \"under registrering\",\n",
                "        \"underregistrering\",\n",
                "        \"xxxxxxxx\",\n",
                "        \"в процессе изготовления\",\n",
                "        \"задана\",\n",
                "        \"Задана\",\n",
                "        \"задано\",\n",
                "        \"заказана\",\n",
                "        \"на обмене\",\n",
                "        \"На обмене\",\n",
                "        \"Родословная\",\n",
                "    ]\n",
                "\n",
                "    df.loc[df[\"registration_number_current\"].isin(list_of_unknowns), \"registration_number_current\"] = \"unknown\"\n",
                "\n",
                "    return df"
            ]
        },
        {
            "cell_type": "markdown",
            "metadata": {},
            "source": [
                "### Applying changes\n"
            ]
        },
        {
            "cell_type": "code",
            "execution_count": 21,
            "metadata": {},
            "outputs": [],
            "source": [
                "all_cats_df = pd.read_csv(\n",
                "    f\"{data_path_processed}/all_cats_first_fixes.csv\", index_col=\"cat_id\", dtype=column_types, low_memory=False\n",
                ")"
            ]
        },
        {
            "cell_type": "code",
            "execution_count": 22,
            "metadata": {},
            "outputs": [],
            "source": [
                "fixed_cats = all_cats_df.copy()\n",
                "\n",
                "fixed_cats[\"registration_number_current\"] = fixed_cats[\"registration_number_current\"].apply(\n",
                "    remove_leading_whitespace\n",
                ")\n",
                "fixed_cats = convert_to_unknown(fixed_cats)"
            ]
        },
        {
            "cell_type": "markdown",
            "metadata": {},
            "source": [
                "## Creating universal format\n"
            ]
        },
        {
            "cell_type": "code",
            "execution_count": null,
            "metadata": {},
            "outputs": [],
            "source": [
                "def format_strings(df: pd.DataFrame) -> pd.DataFrame:\n",
                "    \"\"\"\n",
                "    Format the 'registration_number_current' column in the DataFrame.\n",
                "    This function cleans the strings by removing unwanted characters and formatting them consistently.\n",
                "\n",
                "    :param df: DataFrame containing the 'registration_number_current' column.\n",
                "    :returns: DataFrame with formatted 'registration_number_current' column.\n",
                "    \"\"\"\n",
                "\n",
                "    def _format_single_string(text):\n",
                "        if pd.isna(text):\n",
                "            return text\n",
                "\n",
                "        text = str(text)\n",
                "        previous_text = \"\"\n",
                "\n",
                "        while previous_text != text:\n",
                "            previous_text = text\n",
                "\n",
                "            text = re.sub(r\"\\)([^\\s])\", \") \\\\1\", text)\n",
                "            text = re.sub(r\"[()]\", \"\", text)\n",
                "            text = re.sub(r\"^[\\*\\.\\-\\:\\/]+\", \"\", text)\n",
                "            text = re.sub(r\"^\\s*№\", \"\", text)\n",
                "            text = text.strip()\n",
                "\n",
                "        return text\n",
                "\n",
                "    df[\"registration_number_current\"] = df[\"registration_number_current\"].apply(_format_single_string)\n",
                "\n",
                "    return df"
            ]
        },
        {
            "cell_type": "code",
            "execution_count": 24,
            "metadata": {},
            "outputs": [],
            "source": [
                "fixed_cats = format_strings(fixed_cats)\n",
                "fixed_cats.to_csv(f\"{data_path_processed}/all_cats_done.csv\", index_label=\"cat_id\")"
            ]
        }
    ],
    "metadata": {
        "kernelspec": {
            "display_name": "BachelorProject_Babiar",
            "language": "python",
            "name": "python3"
        },
        "language_info": {
            "codemirror_mode": {
                "name": "ipython",
                "version": 3
            },
            "file_extension": ".py",
            "mimetype": "text/x-python",
            "name": "python",
            "nbconvert_exporter": "python",
            "pygments_lexer": "ipython3",
            "version": "3.12.10"
        }
    },
    "nbformat": 4,
    "nbformat_minor": 2
}
