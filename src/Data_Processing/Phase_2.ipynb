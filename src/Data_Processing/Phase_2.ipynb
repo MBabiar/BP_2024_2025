{
    "cells": [
        {
            "cell_type": "markdown",
            "metadata": {},
            "source": [
                "# Description\n"
            ]
        },
        {
            "cell_type": "markdown",
            "metadata": {},
            "source": [
                "-   Create a helper csv for color mapping.\n",
                "-   Create a helper csv for country mapping.\n"
            ]
        },
        {
            "cell_type": "markdown",
            "metadata": {},
            "source": [
                "# Start\n"
            ]
        },
        {
            "cell_type": "code",
            "execution_count": null,
            "metadata": {},
            "outputs": [],
            "source": [
                "import re\n",
                "import os\n",
                "from pathlib import Path\n",
                "from typing import Any, Dict, List\n",
                "\n",
                "import pandas as pd\n",
                "from src.utils import load_data_config"
            ]
        },
        {
            "cell_type": "code",
            "execution_count": null,
            "metadata": {},
            "outputs": [],
            "source": [
                "data_paths, column_types = load_data_config()\n",
                "data_path_helper = Path(data_paths[\"helper\"])\n",
                "data_path_processed = Path(data_paths[\"processed\"])\n",
                "os.makedirs(data_path_processed, exist_ok=True)"
            ]
        },
        {
            "cell_type": "markdown",
            "metadata": {},
            "source": [
                "# Mapping for breed colors\n"
            ]
        },
        {
            "cell_type": "code",
            "execution_count": null,
            "metadata": {},
            "outputs": [],
            "source": [
                "def load_excel_data() -> pd.DataFrame:\n",
                "    \"\"\"\n",
                "    Load Excel data containing breed information and return it as a DataFrame.\n",
                "\n",
                "    :return: DataFrame containing the breed information.\n",
                "    \"\"\"\n",
                "    file_path = f\"{data_path_helper}/EMS-List-2024-v010424.xlsx\"\n",
                "\n",
                "    try:\n",
                "        df = pd.read_excel(file_path, usecols=[\"EMS code\", \"BREED\", \"English\", \"Group\"])\n",
                "        return df\n",
                "    except FileNotFoundError:\n",
                "        print(\"Error: The file was not found at the specified path.\")\n",
                "        return pd.DataFrame()\n",
                "    except Exception as e:\n",
                "        print(f\"An error occurred: {e}\")\n",
                "        return pd.DataFrame()\n",
                "\n",
                "\n",
                "excel_data = load_excel_data()"
            ]
        },
        {
            "cell_type": "code",
            "execution_count": null,
            "metadata": {},
            "outputs": [],
            "source": [
                "def map_category_to_breed(df: pd.DataFrame) -> pd.DataFrame:\n",
                "    \"\"\"\n",
                "    Map all the categories to their respective breeds in the DataFrame.\n",
                "\n",
                "    :param df: DataFrame containing the breed information.\n",
                "    :return: DataFrame with an additional column for categories.\n",
                "    \"\"\"\n",
                "    category_positions = df[df[\"EMS code\"].str.contains(\"Category\", case=False, na=False)].index\n",
                "\n",
                "    category_map = {}\n",
                "    current_category = None\n",
                "    for idx, row in df.iterrows():\n",
                "        if idx in category_positions:\n",
                "            current_category = row[\"EMS code\"]\n",
                "        else:\n",
                "            category_map[idx] = current_category\n",
                "\n",
                "    df[\"Category\"] = df.index.map(category_map)\n",
                "    return df\n",
                "\n",
                "\n",
                "excel_data = map_category_to_breed(excel_data)"
            ]
        },
        {
            "cell_type": "code",
            "execution_count": null,
            "metadata": {},
            "outputs": [],
            "source": [
                "color_mapping: Dict[str, str] = {\n",
                "    row.split(\" \", 1)[0]: row.split(\" \", 1)[1]\n",
                "    for row in excel_data[\"English\"].dropna().unique()\n",
                "    if len(row.split(\" \", 1)) > 1\n",
                "}"
            ]
        },
        {
            "cell_type": "code",
            "execution_count": null,
            "metadata": {},
            "outputs": [],
            "source": [
                "def extract_breed_name(breed_code: str) -> str:\n",
                "    \"\"\"\n",
                "    Extracts the full breed name from the breed code.\n",
                "\n",
                "    :param breed_code: The breed code to look up.\n",
                "    :returns: Full breed name associated with the breed code.\n",
                "    \"\"\"\n",
                "    breed_matches = excel_data.loc[excel_data[\"BREED\"].str.contains(breed_code, na=False), \"English\"]\n",
                "    if not breed_matches.empty:\n",
                "        breed_info = breed_matches.iloc[0].split(\" - \")\n",
                "        if len(breed_info) > 1:\n",
                "            return breed_info[1]\n",
                "    return breed_code"
            ]
        },
        {
            "cell_type": "code",
            "execution_count": null,
            "metadata": {},
            "outputs": [],
            "source": [
                "def process_row(row: pd.Series) -> List[Dict[str, Any]]:\n",
                "    \"\"\"\n",
                "    Processes a row of the DataFrame to extract breed and color details.\n",
                "\n",
                "    :param row: A row from the DataFrame.\n",
                "    :returns: A list of dictionaries with the processed breed and color data.\n",
                "    \"\"\"\n",
                "    breed_str = str(row[\"BREED\"])\n",
                "    pattern = r\"^[A-Z/]+$\"\n",
                "\n",
                "    if re.match(pattern, breed_str):\n",
                "        breeds = str(row[\"BREED\"]).split(\"/\")\n",
                "        suffix = \" \".join(str(row[\"EMS code\"]).split(\" \")[1:])\n",
                "        color_description = \" \".join(\n",
                "            color_mapping.get(code.strip(), code.strip()) for code in str(row[\"English\"]).split()\n",
                "        )\n",
                "        group = row[\"Group\"] if pd.notna(row[\"Group\"]) else \"unknown\"\n",
                "        category = row[\"Category\"]\n",
                "\n",
                "        new_rows = []\n",
                "        for breed in breeds:\n",
                "            full_breed_name = extract_breed_name(breed)\n",
                "            full_color_explanation = \" \".join(\n",
                "                [color_mapping.get(part.strip(), part.strip()) for part in suffix.split(\" \")]\n",
                "            )\n",
                "            new_rows.append(\n",
                "                {\n",
                "                    \"extracted_breed\": f\"{breed.strip()} {suffix}\",\n",
                "                    \"breed_code\": breed,\n",
                "                    \"colour_code\": full_color_explanation,\n",
                "                    \"colour_definition\": color_description,\n",
                "                    \"full_breed_name\": full_breed_name,\n",
                "                    \"group\": group,\n",
                "                    \"category\": category,\n",
                "                }\n",
                "            )\n",
                "        return new_rows\n",
                "    return []"
            ]
        },
        {
            "cell_type": "code",
            "execution_count": null,
            "metadata": {},
            "outputs": [],
            "source": [
                "new_rows: List[Dict[str, Any]] = [new_row for _, row in excel_data.iterrows() for new_row in process_row(row)]\n",
                "new_processed_data = pd.DataFrame(new_rows)"
            ]
        },
        {
            "cell_type": "code",
            "execution_count": null,
            "metadata": {},
            "outputs": [],
            "source": [
                "grouped_data = (\n",
                "    new_processed_data.groupby([\"breed_code\", \"colour_code\"])\n",
                "    .agg(\n",
                "        {\n",
                "            \"extracted_breed\": \"first\",\n",
                "            \"colour_definition\": lambda x: \" / \".join(sorted(set(x))),\n",
                "            \"full_breed_name\": \"first\",\n",
                "            \"group\": \"first\",\n",
                "            \"category\": \"first\",\n",
                "        }\n",
                "    )\n",
                "    .reset_index()\n",
                ")\n",
                "\n",
                "grouped_data.to_csv(f\"{data_path_processed}/cats_colors_2024.csv\", index=False)"
            ]
        },
        {
            "cell_type": "markdown",
            "metadata": {},
            "source": [
                "# Mapping for country names\n"
            ]
        },
        {
            "cell_type": "code",
            "execution_count": null,
            "metadata": {},
            "outputs": [],
            "source": [
                "def create_country_mapping():\n",
                "    \"\"\"\n",
                "    Create a mapping of country codes to country names.\n",
                "    This function reads a CSV file containing country codes and names,\n",
                "    and transforms it into 2 columns: 'country_code' and 'country_name'.\n",
                "    \"\"\"\n",
                "    country_codes_iso_original = pd.read_csv(\n",
                "        f\"{data_path_helper}/country_codes_iso_original.csv\",\n",
                "        usecols=[\"alpha-2\", \"alpha-3\", \"iso_num\", \"country_name\"],\n",
                "        keep_default_na=False,\n",
                "    )\n",
                "\n",
                "    country_codes_iso_original = country_codes_iso_original.sort_values(by=[\"alpha-2\", \"alpha-3\", \"iso_num\"])\n",
                "    country_codes_iso_original = country_codes_iso_original.reset_index(drop=True)\n",
                "\n",
                "    new_country_iso = country_codes_iso_original.melt(\n",
                "        id_vars=[\"country_name\"],\n",
                "        value_vars=[\"alpha-2\", \"alpha-3\", \"iso_num\"],\n",
                "        value_name=\"country_code\",\n",
                "    )\n",
                "    new_country_iso = new_country_iso.drop(columns=[\"variable\"])\n",
                "    new_country_iso = new_country_iso.sort_values(by=[\"country_name\", \"country_code\"])\n",
                "    new_country_iso = new_country_iso.reset_index(drop=True)\n",
                "\n",
                "    new_country_iso.to_csv(\n",
                "        f\"{data_path_processed}/country_codes_iso.csv\",\n",
                "        index=False,\n",
                "        header=True,\n",
                "        sep=\",\",\n",
                "    )"
            ]
        },
        {
            "cell_type": "code",
            "execution_count": null,
            "metadata": {},
            "outputs": [],
            "source": [
                "create_country_mapping()"
            ]
        }
    ],
    "metadata": {
        "kernelspec": {
            "display_name": "BachelorProject_Babiar",
            "language": "python",
            "name": "python3"
        },
        "language_info": {
            "codemirror_mode": {
                "name": "ipython",
                "version": 3
            },
            "file_extension": ".py",
            "mimetype": "text/x-python",
            "name": "python",
            "nbconvert_exporter": "python",
            "pygments_lexer": "ipython3",
            "version": "3.12.10"
        }
    },
    "nbformat": 4,
    "nbformat_minor": 2
}
