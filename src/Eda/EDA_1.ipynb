{
    "cells": [
        {
            "cell_type": "markdown",
            "metadata": {},
            "source": [
                "# Description\n"
            ]
        },
        {
            "cell_type": "markdown",
            "metadata": {},
            "source": [
                "First EDA for catbase database. This phase is run before Data_Processing.\n",
                "\n",
                "-   Analyze tables\n",
                "-   Remove uninformative tables\n"
            ]
        },
        {
            "cell_type": "markdown",
            "metadata": {},
            "source": [
                "# Start\n"
            ]
        },
        {
            "cell_type": "code",
            "execution_count": null,
            "metadata": {},
            "outputs": [],
            "source": [
                "import json\n",
                "\n",
                "import pandas as pd\n",
                "import psycopg2\n",
                "from sqlalchemy import create_engine, inspect"
            ]
        },
        {
            "cell_type": "markdown",
            "metadata": {},
            "source": [
                "## Definitons\n"
            ]
        },
        {
            "cell_type": "code",
            "execution_count": null,
            "metadata": {},
            "outputs": [],
            "source": [
                "def create_engine_from_config():\n",
                "    with open(\"../../util/config.json\", \"r\") as file:\n",
                "        config = json.load(file)\n",
                "\n",
                "    rel_host = config[\"relational_database\"][\"host\"]\n",
                "    rel_port = config[\"relational_database\"][\"port\"]\n",
                "    rel_db_name = config[\"relational_database\"][\"dbname\"]\n",
                "    rel_user = config[\"relational_database\"][\"user\"]\n",
                "    rel_password = config[\"relational_database\"][\"password\"]\n",
                "\n",
                "    return create_engine(f\"postgresql+psycopg2://{rel_user}:{rel_password}@{rel_host}:{rel_port}/{rel_db_name}\")"
            ]
        },
        {
            "cell_type": "code",
            "execution_count": null,
            "metadata": {},
            "outputs": [],
            "source": [
                "engine = create_engine_from_config()"
            ]
        },
        {
            "cell_type": "markdown",
            "metadata": {},
            "source": [
                "# EDA - First look at tables\n"
            ]
        },
        {
            "cell_type": "markdown",
            "metadata": {},
            "source": [
                "## First look at tables\n"
            ]
        },
        {
            "cell_type": "code",
            "execution_count": null,
            "metadata": {},
            "outputs": [],
            "source": [
                "def get_all_tables(engine):\n",
                "    inspector = inspect(engine)\n",
                "    tables = pd.DataFrame(inspector.get_table_names(), columns=[\"table_name\"])\n",
                "    return tables\n",
                "\n",
                "\n",
                "tables = get_all_tables(engine)\n",
                "tables"
            ]
        },
        {
            "cell_type": "markdown",
            "metadata": {},
            "source": [
                "We can immediately remove non-informative tables:\n",
                "\n",
                "-   **adonis_schema**\n",
                "-   **adonis_schema_versions**\n",
                "-   **api_tokens**\n"
            ]
        },
        {
            "cell_type": "code",
            "execution_count": null,
            "metadata": {},
            "outputs": [],
            "source": [
                "def remove_non_informative_tables(tables):\n",
                "    non_informative_tables = [\"adonis_schema\", \"adonis_schema_versions\", \"api_tokens\"]\n",
                "    return tables[~tables[\"table_name\"].isin(non_informative_tables)].reset_index(drop=True)\n",
                "\n",
                "\n",
                "tables = remove_non_informative_tables(tables)\n",
                "tables"
            ]
        },
        {
            "cell_type": "markdown",
            "metadata": {},
            "source": [
                "## Removing other non-informative tables\n"
            ]
        },
        {
            "cell_type": "code",
            "execution_count": null,
            "metadata": {},
            "outputs": [],
            "source": [
                "cats_df = pd.read_sql_query(\"SELECT * FROM cats LIMIT 10000\", engine)\n",
                "cat_informations_df = pd.read_sql_query(\"SELECT * FROM cat_informations LIMIT 10000\", engine)\n",
                "cat_references_df = pd.read_sql_query(\"SELECT * FROM cat_references LIMIT 10000\", engine)\n",
                "breeds_df = pd.read_sql_query(\"SELECT * FROM breeds LIMIT 10000\", engine)\n",
                "links_df = pd.read_sql_query(\"SELECT * FROM links LIMIT 10000\", engine)\n",
                "user_breeds_df = pd.read_sql_query(\"SELECT * FROM user_breeds LIMIT 10000\", engine)\n",
                "cat_histories_df = pd.read_sql_query(\"SELECT * FROM cat_histories LIMIT 10000\", engine)\n",
                "roles_df = pd.read_sql_query(\"SELECT * FROM roles LIMIT 10000\", engine)\n",
                "users_df = pd.read_sql_query(\"SELECT * FROM users LIMIT 10000\", engine)"
            ]
        },
        {
            "cell_type": "code",
            "execution_count": null,
            "metadata": {},
            "outputs": [],
            "source": [
                "cats_df.head(5)"
            ]
        },
        {
            "cell_type": "code",
            "execution_count": null,
            "metadata": {},
            "outputs": [],
            "source": [
                "cat_informations_df.head(5)"
            ]
        },
        {
            "cell_type": "code",
            "execution_count": null,
            "metadata": {},
            "outputs": [],
            "source": [
                "cat_references_df.head(5)"
            ]
        },
        {
            "cell_type": "code",
            "execution_count": null,
            "metadata": {},
            "outputs": [],
            "source": [
                "breeds_df.head(5)"
            ]
        },
        {
            "cell_type": "code",
            "execution_count": null,
            "metadata": {},
            "outputs": [],
            "source": [
                "links_df.head(5)"
            ]
        },
        {
            "cell_type": "code",
            "execution_count": null,
            "metadata": {},
            "outputs": [],
            "source": [
                "user_breeds_df.head(5)"
            ]
        },
        {
            "cell_type": "code",
            "execution_count": null,
            "metadata": {},
            "outputs": [],
            "source": [
                "cat_histories_df.head(5)"
            ]
        },
        {
            "cell_type": "code",
            "execution_count": null,
            "metadata": {},
            "outputs": [],
            "source": [
                "roles_df.head(5)"
            ]
        },
        {
            "cell_type": "code",
            "execution_count": null,
            "metadata": {},
            "outputs": [],
            "source": [
                "users_df.head(5)"
            ]
        },
        {
            "cell_type": "markdown",
            "metadata": {},
            "source": [
                "We can next remove other non-informative tables:\n",
                "\n",
                "-   **user_breeds** (no data)\n",
                "-   **cat_histories** (no data)\n",
                "-   **roles** (not needed for our analysis)\n",
                "-   **users** (not needed for our analysis)\n"
            ]
        },
        {
            "cell_type": "code",
            "execution_count": null,
            "metadata": {},
            "outputs": [],
            "source": [
                "def remove_non_informative_tables(tables):\n",
                "    non_informative_tables = [\"user_breeds\", \"cat_histories\", \"roles\", \"users\", \"links\"]\n",
                "    return tables[~tables[\"table_name\"].isin(non_informative_tables)].reset_index(drop=True)\n",
                "\n",
                "\n",
                "tables = remove_non_informative_tables(tables)\n",
                "tables"
            ]
        },
        {
            "cell_type": "markdown",
            "metadata": {},
            "source": [
                "## Further Analysis of remaining tables\n"
            ]
        },
        {
            "cell_type": "markdown",
            "metadata": {},
            "source": [
                "**cats**\n",
                "\n",
                "-   Holds general information about cats\n",
                "\n",
                "**cat_informations**\n",
                "\n",
                "-   Hold extra information about cats\n",
                "\n",
                "**cat_references**\n",
                "\n",
                "-   Hold references to other cats (e.g. parents)\n",
                "\n",
                "**breeds**\n",
                "\n",
                "-   List of breeds\n"
            ]
        }
    ],
    "metadata": {
        "kernelspec": {
            "display_name": "BachelorProject_Babiar",
            "language": "python",
            "name": "python3"
        },
        "language_info": {
            "codemirror_mode": {
                "name": "ipython",
                "version": 3
            },
            "file_extension": ".py",
            "mimetype": "text/x-python",
            "name": "python",
            "nbconvert_exporter": "python",
            "pygments_lexer": "ipython3",
            "version": "3.12.10"
        }
    },
    "nbformat": 4,
    "nbformat_minor": 2
}
