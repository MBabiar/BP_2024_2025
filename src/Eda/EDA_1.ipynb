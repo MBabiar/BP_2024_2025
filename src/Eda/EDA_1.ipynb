{
    "cells": [
        {
            "cell_type": "markdown",
            "metadata": {},
            "source": [
                "# Description\n"
            ]
        },
        {
            "cell_type": "markdown",
            "metadata": {},
            "source": [
                "First EDA for catbase database. This phase is run before Data_Processing.\n",
                "\n",
                "-   Analyze tables\n",
                "-   Remove uninformative tables\n"
            ]
        },
        {
            "cell_type": "markdown",
            "metadata": {},
            "source": [
                "# Start\n"
            ]
        },
        {
            "cell_type": "code",
            "execution_count": 4,
            "metadata": {},
            "outputs": [],
            "source": [
                "import json\n",
                "\n",
                "import pandas as pd\n",
                "import psycopg2\n",
                "from sqlalchemy import create_engine, inspect"
            ]
        },
        {
            "cell_type": "markdown",
            "metadata": {},
            "source": [
                "## Definitons\n"
            ]
        },
        {
            "cell_type": "code",
            "execution_count": 5,
            "metadata": {},
            "outputs": [],
            "source": [
                "def create_engine_from_config():\n",
                "    with open(\"../../config/config.json\", \"r\") as file:\n",
                "        config = json.load(file)\n",
                "\n",
                "    rel_host = config[\"relational_database\"][\"host\"]\n",
                "    rel_port = config[\"relational_database\"][\"port\"]\n",
                "    rel_db_name = config[\"relational_database\"][\"dbname\"]\n",
                "    rel_user = config[\"relational_database\"][\"user\"]\n",
                "    rel_password = config[\"relational_database\"][\"password\"]\n",
                "\n",
                "    return create_engine(f\"postgresql+psycopg2://{rel_user}:{rel_password}@{rel_host}:{rel_port}/{rel_db_name}\")"
            ]
        },
        {
            "cell_type": "code",
            "execution_count": 6,
            "metadata": {},
            "outputs": [],
            "source": [
                "engine = create_engine_from_config()"
            ]
        },
        {
            "cell_type": "markdown",
            "metadata": {},
            "source": [
                "# EDA - First look at tables\n"
            ]
        },
        {
            "cell_type": "markdown",
            "metadata": {},
            "source": [
                "## First look at tables\n"
            ]
        },
        {
            "cell_type": "code",
            "execution_count": 7,
            "metadata": {},
            "outputs": [
                {
                    "data": {
                        "application/vnd.microsoft.datawrangler.viewer.v0+json": {
                            "columns": [
                                {
                                    "name": "index",
                                    "rawType": "int64",
                                    "type": "integer"
                                },
                                {
                                    "name": "table_name",
                                    "rawType": "object",
                                    "type": "string"
                                }
                            ],
                            "conversionMethod": "pd.DataFrame",
                            "ref": "90828477-3ade-4275-94a0-c4f8ada9fe49",
                            "rows": [
                                [
                                    "0",
                                    "adonis_schema"
                                ],
                                [
                                    "1",
                                    "adonis_schema_versions"
                                ],
                                [
                                    "2",
                                    "cats"
                                ],
                                [
                                    "3",
                                    "cat_informations"
                                ],
                                [
                                    "4",
                                    "cat_references"
                                ],
                                [
                                    "5",
                                    "breeds"
                                ],
                                [
                                    "6",
                                    "links"
                                ],
                                [
                                    "7",
                                    "user_breeds"
                                ],
                                [
                                    "8",
                                    "cat_histories"
                                ],
                                [
                                    "9",
                                    "roles"
                                ],
                                [
                                    "10",
                                    "users"
                                ],
                                [
                                    "11",
                                    "api_tokens"
                                ]
                            ],
                            "shape": {
                                "columns": 1,
                                "rows": 12
                            }
                        },
                        "text/html": [
                            "<div>\n",
                            "<style scoped>\n",
                            "    .dataframe tbody tr th:only-of-type {\n",
                            "        vertical-align: middle;\n",
                            "    }\n",
                            "\n",
                            "    .dataframe tbody tr th {\n",
                            "        vertical-align: top;\n",
                            "    }\n",
                            "\n",
                            "    .dataframe thead th {\n",
                            "        text-align: right;\n",
                            "    }\n",
                            "</style>\n",
                            "<table border=\"1\" class=\"dataframe\">\n",
                            "  <thead>\n",
                            "    <tr style=\"text-align: right;\">\n",
                            "      <th></th>\n",
                            "      <th>table_name</th>\n",
                            "    </tr>\n",
                            "  </thead>\n",
                            "  <tbody>\n",
                            "    <tr>\n",
                            "      <th>0</th>\n",
                            "      <td>adonis_schema</td>\n",
                            "    </tr>\n",
                            "    <tr>\n",
                            "      <th>1</th>\n",
                            "      <td>adonis_schema_versions</td>\n",
                            "    </tr>\n",
                            "    <tr>\n",
                            "      <th>2</th>\n",
                            "      <td>cats</td>\n",
                            "    </tr>\n",
                            "    <tr>\n",
                            "      <th>3</th>\n",
                            "      <td>cat_informations</td>\n",
                            "    </tr>\n",
                            "    <tr>\n",
                            "      <th>4</th>\n",
                            "      <td>cat_references</td>\n",
                            "    </tr>\n",
                            "    <tr>\n",
                            "      <th>5</th>\n",
                            "      <td>breeds</td>\n",
                            "    </tr>\n",
                            "    <tr>\n",
                            "      <th>6</th>\n",
                            "      <td>links</td>\n",
                            "    </tr>\n",
                            "    <tr>\n",
                            "      <th>7</th>\n",
                            "      <td>user_breeds</td>\n",
                            "    </tr>\n",
                            "    <tr>\n",
                            "      <th>8</th>\n",
                            "      <td>cat_histories</td>\n",
                            "    </tr>\n",
                            "    <tr>\n",
                            "      <th>9</th>\n",
                            "      <td>roles</td>\n",
                            "    </tr>\n",
                            "    <tr>\n",
                            "      <th>10</th>\n",
                            "      <td>users</td>\n",
                            "    </tr>\n",
                            "    <tr>\n",
                            "      <th>11</th>\n",
                            "      <td>api_tokens</td>\n",
                            "    </tr>\n",
                            "  </tbody>\n",
                            "</table>\n",
                            "</div>"
                        ],
                        "text/plain": [
                            "                table_name\n",
                            "0            adonis_schema\n",
                            "1   adonis_schema_versions\n",
                            "2                     cats\n",
                            "3         cat_informations\n",
                            "4           cat_references\n",
                            "5                   breeds\n",
                            "6                    links\n",
                            "7              user_breeds\n",
                            "8            cat_histories\n",
                            "9                    roles\n",
                            "10                   users\n",
                            "11              api_tokens"
                        ]
                    },
                    "execution_count": 7,
                    "metadata": {},
                    "output_type": "execute_result"
                }
            ],
            "source": [
                "def get_all_tables(engine):\n",
                "    inspector = inspect(engine)\n",
                "    tables = pd.DataFrame(inspector.get_table_names(), columns=[\"table_name\"])\n",
                "    return tables\n",
                "\n",
                "\n",
                "tables = get_all_tables(engine)\n",
                "tables"
            ]
        },
        {
            "cell_type": "markdown",
            "metadata": {},
            "source": [
                "We can immediately remove non-informative tables:\n",
                "\n",
                "-   **adonis_schema**\n",
                "-   **adonis_schema_versions**\n",
                "-   **api_tokens**\n"
            ]
        },
        {
            "cell_type": "code",
            "execution_count": 8,
            "metadata": {},
            "outputs": [
                {
                    "data": {
                        "application/vnd.microsoft.datawrangler.viewer.v0+json": {
                            "columns": [
                                {
                                    "name": "index",
                                    "rawType": "int64",
                                    "type": "integer"
                                },
                                {
                                    "name": "table_name",
                                    "rawType": "object",
                                    "type": "string"
                                }
                            ],
                            "conversionMethod": "pd.DataFrame",
                            "ref": "3cd78cd8-ae1c-4b5e-ad6b-a87d8c2d7a80",
                            "rows": [
                                [
                                    "0",
                                    "cats"
                                ],
                                [
                                    "1",
                                    "cat_informations"
                                ],
                                [
                                    "2",
                                    "cat_references"
                                ],
                                [
                                    "3",
                                    "breeds"
                                ],
                                [
                                    "4",
                                    "links"
                                ],
                                [
                                    "5",
                                    "user_breeds"
                                ],
                                [
                                    "6",
                                    "cat_histories"
                                ],
                                [
                                    "7",
                                    "roles"
                                ],
                                [
                                    "8",
                                    "users"
                                ]
                            ],
                            "shape": {
                                "columns": 1,
                                "rows": 9
                            }
                        },
                        "text/html": [
                            "<div>\n",
                            "<style scoped>\n",
                            "    .dataframe tbody tr th:only-of-type {\n",
                            "        vertical-align: middle;\n",
                            "    }\n",
                            "\n",
                            "    .dataframe tbody tr th {\n",
                            "        vertical-align: top;\n",
                            "    }\n",
                            "\n",
                            "    .dataframe thead th {\n",
                            "        text-align: right;\n",
                            "    }\n",
                            "</style>\n",
                            "<table border=\"1\" class=\"dataframe\">\n",
                            "  <thead>\n",
                            "    <tr style=\"text-align: right;\">\n",
                            "      <th></th>\n",
                            "      <th>table_name</th>\n",
                            "    </tr>\n",
                            "  </thead>\n",
                            "  <tbody>\n",
                            "    <tr>\n",
                            "      <th>0</th>\n",
                            "      <td>cats</td>\n",
                            "    </tr>\n",
                            "    <tr>\n",
                            "      <th>1</th>\n",
                            "      <td>cat_informations</td>\n",
                            "    </tr>\n",
                            "    <tr>\n",
                            "      <th>2</th>\n",
                            "      <td>cat_references</td>\n",
                            "    </tr>\n",
                            "    <tr>\n",
                            "      <th>3</th>\n",
                            "      <td>breeds</td>\n",
                            "    </tr>\n",
                            "    <tr>\n",
                            "      <th>4</th>\n",
                            "      <td>links</td>\n",
                            "    </tr>\n",
                            "    <tr>\n",
                            "      <th>5</th>\n",
                            "      <td>user_breeds</td>\n",
                            "    </tr>\n",
                            "    <tr>\n",
                            "      <th>6</th>\n",
                            "      <td>cat_histories</td>\n",
                            "    </tr>\n",
                            "    <tr>\n",
                            "      <th>7</th>\n",
                            "      <td>roles</td>\n",
                            "    </tr>\n",
                            "    <tr>\n",
                            "      <th>8</th>\n",
                            "      <td>users</td>\n",
                            "    </tr>\n",
                            "  </tbody>\n",
                            "</table>\n",
                            "</div>"
                        ],
                        "text/plain": [
                            "         table_name\n",
                            "0              cats\n",
                            "1  cat_informations\n",
                            "2    cat_references\n",
                            "3            breeds\n",
                            "4             links\n",
                            "5       user_breeds\n",
                            "6     cat_histories\n",
                            "7             roles\n",
                            "8             users"
                        ]
                    },
                    "execution_count": 8,
                    "metadata": {},
                    "output_type": "execute_result"
                }
            ],
            "source": [
                "def remove_non_informative_tables(tables):\n",
                "    non_informative_tables = [\"adonis_schema\", \"adonis_schema_versions\", \"api_tokens\"]\n",
                "    return tables[~tables[\"table_name\"].isin(non_informative_tables)].reset_index(drop=True)\n",
                "\n",
                "\n",
                "tables = remove_non_informative_tables(tables)\n",
                "tables"
            ]
        },
        {
            "cell_type": "markdown",
            "metadata": {},
            "source": [
                "## Removing other non-informative tables\n"
            ]
        },
        {
            "cell_type": "code",
            "execution_count": 9,
            "metadata": {},
            "outputs": [],
            "source": [
                "cats_df = pd.read_sql_query(\"SELECT * FROM cats LIMIT 10000\", engine)\n",
                "cat_informations_df = pd.read_sql_query(\"SELECT * FROM cat_informations LIMIT 10000\", engine)\n",
                "cat_references_df = pd.read_sql_query(\"SELECT * FROM cat_references LIMIT 10000\", engine)\n",
                "breeds_df = pd.read_sql_query(\"SELECT * FROM breeds LIMIT 10000\", engine)\n",
                "links_df = pd.read_sql_query(\"SELECT * FROM links LIMIT 10000\", engine)\n",
                "user_breeds_df = pd.read_sql_query(\"SELECT * FROM user_breeds LIMIT 10000\", engine)\n",
                "cat_histories_df = pd.read_sql_query(\"SELECT * FROM cat_histories LIMIT 10000\", engine)\n",
                "roles_df = pd.read_sql_query(\"SELECT * FROM roles LIMIT 10000\", engine)\n",
                "users_df = pd.read_sql_query(\"SELECT * FROM users LIMIT 10000\", engine)"
            ]
        },
        {
            "cell_type": "code",
            "execution_count": 10,
            "metadata": {},
            "outputs": [
                {
                    "data": {
                        "application/vnd.microsoft.datawrangler.viewer.v0+json": {
                            "columns": [
                                {
                                    "name": "index",
                                    "rawType": "int64",
                                    "type": "integer"
                                },
                                {
                                    "name": "id",
                                    "rawType": "int64",
                                    "type": "integer"
                                },
                                {
                                    "name": "name",
                                    "rawType": "object",
                                    "type": "string"
                                },
                                {
                                    "name": "country_origin",
                                    "rawType": "object",
                                    "type": "string"
                                },
                                {
                                    "name": "country_current",
                                    "rawType": "object",
                                    "type": "string"
                                },
                                {
                                    "name": "color",
                                    "rawType": "object",
                                    "type": "string"
                                },
                                {
                                    "name": "color_code",
                                    "rawType": "object",
                                    "type": "string"
                                },
                                {
                                    "name": "date_of_birth",
                                    "rawType": "datetime64[ns]",
                                    "type": "datetime"
                                },
                                {
                                    "name": "gender",
                                    "rawType": "object",
                                    "type": "string"
                                },
                                {
                                    "name": "reg_num_origin",
                                    "rawType": "object",
                                    "type": "unknown"
                                },
                                {
                                    "name": "reg_num_current",
                                    "rawType": "object",
                                    "type": "string"
                                },
                                {
                                    "name": "src_db",
                                    "rawType": "object",
                                    "type": "string"
                                },
                                {
                                    "name": "src_id",
                                    "rawType": "int64",
                                    "type": "integer"
                                },
                                {
                                    "name": "breed_id",
                                    "rawType": "float64",
                                    "type": "float"
                                },
                                {
                                    "name": "created_at",
                                    "rawType": "datetime64[ns, UTC]",
                                    "type": "unknown"
                                },
                                {
                                    "name": "updated_at",
                                    "rawType": "datetime64[ns, UTC]",
                                    "type": "unknown"
                                },
                                {
                                    "name": "deleted_at",
                                    "rawType": "object",
                                    "type": "unknown"
                                }
                            ],
                            "conversionMethod": "pd.DataFrame",
                            "ref": "788bbc33-2327-4b1f-b2de-719fc6b919c3",
                            "rows": [
                                [
                                    "0",
                                    "1",
                                    "Aiva Sama",
                                    "FI",
                                    "FI",
                                    "ruskeatabby/valkea",
                                    "n 09 22",
                                    "2010-11-14 00:00:00",
                                    "F",
                                    null,
                                    "FI SRK LO 85933",
                                    "Finland",
                                    "1",
                                    "12.0",
                                    "2024-01-27 08:54:55.844265+00:00",
                                    "2024-01-27 08:54:55.844265+00:00",
                                    null
                                ],
                                [
                                    "1",
                                    "2",
                                    "Legsby",
                                    "FI",
                                    "FI",
                                    "ruskeanaamio",
                                    "n",
                                    "2010-11-26 00:00:00",
                                    "M",
                                    null,
                                    "FI SRK LO 38165",
                                    "Finland",
                                    "2",
                                    "45.0",
                                    "2024-01-27 08:54:55.844265+00:00",
                                    "2024-01-27 08:54:55.844265+00:00",
                                    null
                                ],
                                [
                                    "2",
                                    "3",
                                    "Ultimaatumi",
                                    "FI",
                                    "FI",
                                    "suklaanaamio",
                                    "b",
                                    "2010-11-20 00:00:00",
                                    "M",
                                    null,
                                    "FI SRK LO 38166",
                                    "Finland",
                                    "3",
                                    "45.0",
                                    "2024-01-27 08:54:55.844265+00:00",
                                    "2024-01-27 08:54:55.844265+00:00",
                                    null
                                ],
                                [
                                    "3",
                                    "4",
                                    "Ukaasi",
                                    "FI",
                                    "FI",
                                    "ruskeanaamio",
                                    "n",
                                    "2010-11-20 00:00:00",
                                    "M",
                                    null,
                                    "FI SRK LO 38167",
                                    "Finland",
                                    "4",
                                    "45.0",
                                    "2024-01-27 08:54:55.844265+00:00",
                                    "2024-01-27 08:54:55.844265+00:00",
                                    null
                                ],
                                [
                                    "4",
                                    "5",
                                    "Ukulele",
                                    "FI",
                                    "FI",
                                    "ruskeanaamio",
                                    "n",
                                    "2010-11-20 00:00:00",
                                    "M",
                                    null,
                                    "FI SRK LO 38168",
                                    "Finland",
                                    "5",
                                    "45.0",
                                    "2024-01-27 08:54:55.844265+00:00",
                                    "2024-01-27 08:54:55.844265+00:00",
                                    null
                                ]
                            ],
                            "shape": {
                                "columns": 16,
                                "rows": 5
                            }
                        },
                        "text/html": [
                            "<div>\n",
                            "<style scoped>\n",
                            "    .dataframe tbody tr th:only-of-type {\n",
                            "        vertical-align: middle;\n",
                            "    }\n",
                            "\n",
                            "    .dataframe tbody tr th {\n",
                            "        vertical-align: top;\n",
                            "    }\n",
                            "\n",
                            "    .dataframe thead th {\n",
                            "        text-align: right;\n",
                            "    }\n",
                            "</style>\n",
                            "<table border=\"1\" class=\"dataframe\">\n",
                            "  <thead>\n",
                            "    <tr style=\"text-align: right;\">\n",
                            "      <th></th>\n",
                            "      <th>id</th>\n",
                            "      <th>name</th>\n",
                            "      <th>country_origin</th>\n",
                            "      <th>country_current</th>\n",
                            "      <th>color</th>\n",
                            "      <th>color_code</th>\n",
                            "      <th>date_of_birth</th>\n",
                            "      <th>gender</th>\n",
                            "      <th>reg_num_origin</th>\n",
                            "      <th>reg_num_current</th>\n",
                            "      <th>src_db</th>\n",
                            "      <th>src_id</th>\n",
                            "      <th>breed_id</th>\n",
                            "      <th>created_at</th>\n",
                            "      <th>updated_at</th>\n",
                            "      <th>deleted_at</th>\n",
                            "    </tr>\n",
                            "  </thead>\n",
                            "  <tbody>\n",
                            "    <tr>\n",
                            "      <th>0</th>\n",
                            "      <td>1</td>\n",
                            "      <td>Aiva Sama</td>\n",
                            "      <td>FI</td>\n",
                            "      <td>FI</td>\n",
                            "      <td>ruskeatabby/valkea</td>\n",
                            "      <td>n 09 22</td>\n",
                            "      <td>2010-11-14</td>\n",
                            "      <td>F</td>\n",
                            "      <td>None</td>\n",
                            "      <td>FI SRK LO 85933</td>\n",
                            "      <td>Finland</td>\n",
                            "      <td>1</td>\n",
                            "      <td>12.0</td>\n",
                            "      <td>2024-01-27 08:54:55.844265+00:00</td>\n",
                            "      <td>2024-01-27 08:54:55.844265+00:00</td>\n",
                            "      <td>None</td>\n",
                            "    </tr>\n",
                            "    <tr>\n",
                            "      <th>1</th>\n",
                            "      <td>2</td>\n",
                            "      <td>Legsby</td>\n",
                            "      <td>FI</td>\n",
                            "      <td>FI</td>\n",
                            "      <td>ruskeanaamio</td>\n",
                            "      <td>n</td>\n",
                            "      <td>2010-11-26</td>\n",
                            "      <td>M</td>\n",
                            "      <td>None</td>\n",
                            "      <td>FI SRK LO 38165</td>\n",
                            "      <td>Finland</td>\n",
                            "      <td>2</td>\n",
                            "      <td>45.0</td>\n",
                            "      <td>2024-01-27 08:54:55.844265+00:00</td>\n",
                            "      <td>2024-01-27 08:54:55.844265+00:00</td>\n",
                            "      <td>None</td>\n",
                            "    </tr>\n",
                            "    <tr>\n",
                            "      <th>2</th>\n",
                            "      <td>3</td>\n",
                            "      <td>Ultimaatumi</td>\n",
                            "      <td>FI</td>\n",
                            "      <td>FI</td>\n",
                            "      <td>suklaanaamio</td>\n",
                            "      <td>b</td>\n",
                            "      <td>2010-11-20</td>\n",
                            "      <td>M</td>\n",
                            "      <td>None</td>\n",
                            "      <td>FI SRK LO 38166</td>\n",
                            "      <td>Finland</td>\n",
                            "      <td>3</td>\n",
                            "      <td>45.0</td>\n",
                            "      <td>2024-01-27 08:54:55.844265+00:00</td>\n",
                            "      <td>2024-01-27 08:54:55.844265+00:00</td>\n",
                            "      <td>None</td>\n",
                            "    </tr>\n",
                            "    <tr>\n",
                            "      <th>3</th>\n",
                            "      <td>4</td>\n",
                            "      <td>Ukaasi</td>\n",
                            "      <td>FI</td>\n",
                            "      <td>FI</td>\n",
                            "      <td>ruskeanaamio</td>\n",
                            "      <td>n</td>\n",
                            "      <td>2010-11-20</td>\n",
                            "      <td>M</td>\n",
                            "      <td>None</td>\n",
                            "      <td>FI SRK LO 38167</td>\n",
                            "      <td>Finland</td>\n",
                            "      <td>4</td>\n",
                            "      <td>45.0</td>\n",
                            "      <td>2024-01-27 08:54:55.844265+00:00</td>\n",
                            "      <td>2024-01-27 08:54:55.844265+00:00</td>\n",
                            "      <td>None</td>\n",
                            "    </tr>\n",
                            "    <tr>\n",
                            "      <th>4</th>\n",
                            "      <td>5</td>\n",
                            "      <td>Ukulele</td>\n",
                            "      <td>FI</td>\n",
                            "      <td>FI</td>\n",
                            "      <td>ruskeanaamio</td>\n",
                            "      <td>n</td>\n",
                            "      <td>2010-11-20</td>\n",
                            "      <td>M</td>\n",
                            "      <td>None</td>\n",
                            "      <td>FI SRK LO 38168</td>\n",
                            "      <td>Finland</td>\n",
                            "      <td>5</td>\n",
                            "      <td>45.0</td>\n",
                            "      <td>2024-01-27 08:54:55.844265+00:00</td>\n",
                            "      <td>2024-01-27 08:54:55.844265+00:00</td>\n",
                            "      <td>None</td>\n",
                            "    </tr>\n",
                            "  </tbody>\n",
                            "</table>\n",
                            "</div>"
                        ],
                        "text/plain": [
                            "   id         name country_origin country_current               color  \\\n",
                            "0   1    Aiva Sama             FI              FI  ruskeatabby/valkea   \n",
                            "1   2       Legsby             FI              FI        ruskeanaamio   \n",
                            "2   3  Ultimaatumi             FI              FI        suklaanaamio   \n",
                            "3   4       Ukaasi             FI              FI        ruskeanaamio   \n",
                            "4   5      Ukulele             FI              FI        ruskeanaamio   \n",
                            "\n",
                            "  color_code date_of_birth gender reg_num_origin  reg_num_current   src_db  \\\n",
                            "0    n 09 22    2010-11-14      F           None  FI SRK LO 85933  Finland   \n",
                            "1          n    2010-11-26      M           None  FI SRK LO 38165  Finland   \n",
                            "2          b    2010-11-20      M           None  FI SRK LO 38166  Finland   \n",
                            "3          n    2010-11-20      M           None  FI SRK LO 38167  Finland   \n",
                            "4          n    2010-11-20      M           None  FI SRK LO 38168  Finland   \n",
                            "\n",
                            "   src_id  breed_id                       created_at  \\\n",
                            "0       1      12.0 2024-01-27 08:54:55.844265+00:00   \n",
                            "1       2      45.0 2024-01-27 08:54:55.844265+00:00   \n",
                            "2       3      45.0 2024-01-27 08:54:55.844265+00:00   \n",
                            "3       4      45.0 2024-01-27 08:54:55.844265+00:00   \n",
                            "4       5      45.0 2024-01-27 08:54:55.844265+00:00   \n",
                            "\n",
                            "                        updated_at deleted_at  \n",
                            "0 2024-01-27 08:54:55.844265+00:00       None  \n",
                            "1 2024-01-27 08:54:55.844265+00:00       None  \n",
                            "2 2024-01-27 08:54:55.844265+00:00       None  \n",
                            "3 2024-01-27 08:54:55.844265+00:00       None  \n",
                            "4 2024-01-27 08:54:55.844265+00:00       None  "
                        ]
                    },
                    "execution_count": 10,
                    "metadata": {},
                    "output_type": "execute_result"
                }
            ],
            "source": [
                "cats_df.head(5)"
            ]
        },
        {
            "cell_type": "code",
            "execution_count": 11,
            "metadata": {},
            "outputs": [
                {
                    "data": {
                        "application/vnd.microsoft.datawrangler.viewer.v0+json": {
                            "columns": [
                                {
                                    "name": "index",
                                    "rawType": "int64",
                                    "type": "integer"
                                },
                                {
                                    "name": "id",
                                    "rawType": "int64",
                                    "type": "integer"
                                },
                                {
                                    "name": "title_before",
                                    "rawType": "object",
                                    "type": "unknown"
                                },
                                {
                                    "name": "title_after",
                                    "rawType": "object",
                                    "type": "unknown"
                                },
                                {
                                    "name": "chip",
                                    "rawType": "object",
                                    "type": "unknown"
                                },
                                {
                                    "name": "verified_status",
                                    "rawType": "object",
                                    "type": "unknown"
                                },
                                {
                                    "name": "cattery",
                                    "rawType": "object",
                                    "type": "string"
                                },
                                {
                                    "name": "cat_id",
                                    "rawType": "int64",
                                    "type": "integer"
                                }
                            ],
                            "conversionMethod": "pd.DataFrame",
                            "ref": "b750b02c-d138-4403-8770-9bf2f939b8a0",
                            "rows": [
                                [
                                    "0",
                                    "1",
                                    null,
                                    null,
                                    null,
                                    null,
                                    "FI*Hömpötin",
                                    "1"
                                ],
                                [
                                    "1",
                                    "2",
                                    null,
                                    null,
                                    null,
                                    null,
                                    "FI*Twist-Tiramisun",
                                    "2"
                                ],
                                [
                                    "2",
                                    "3",
                                    null,
                                    null,
                                    "985154000110482",
                                    null,
                                    "FI*Kelmikerhon",
                                    "3"
                                ],
                                [
                                    "3",
                                    "4",
                                    null,
                                    null,
                                    null,
                                    null,
                                    "FI*Kelmikerhon",
                                    "4"
                                ],
                                [
                                    "4",
                                    "5",
                                    null,
                                    null,
                                    "981098102723783",
                                    null,
                                    "FI*Kelmikerhon",
                                    "5"
                                ]
                            ],
                            "shape": {
                                "columns": 7,
                                "rows": 5
                            }
                        },
                        "text/html": [
                            "<div>\n",
                            "<style scoped>\n",
                            "    .dataframe tbody tr th:only-of-type {\n",
                            "        vertical-align: middle;\n",
                            "    }\n",
                            "\n",
                            "    .dataframe tbody tr th {\n",
                            "        vertical-align: top;\n",
                            "    }\n",
                            "\n",
                            "    .dataframe thead th {\n",
                            "        text-align: right;\n",
                            "    }\n",
                            "</style>\n",
                            "<table border=\"1\" class=\"dataframe\">\n",
                            "  <thead>\n",
                            "    <tr style=\"text-align: right;\">\n",
                            "      <th></th>\n",
                            "      <th>id</th>\n",
                            "      <th>title_before</th>\n",
                            "      <th>title_after</th>\n",
                            "      <th>chip</th>\n",
                            "      <th>verified_status</th>\n",
                            "      <th>cattery</th>\n",
                            "      <th>cat_id</th>\n",
                            "    </tr>\n",
                            "  </thead>\n",
                            "  <tbody>\n",
                            "    <tr>\n",
                            "      <th>0</th>\n",
                            "      <td>1</td>\n",
                            "      <td>None</td>\n",
                            "      <td>None</td>\n",
                            "      <td>None</td>\n",
                            "      <td>None</td>\n",
                            "      <td>FI*Hömpötin</td>\n",
                            "      <td>1</td>\n",
                            "    </tr>\n",
                            "    <tr>\n",
                            "      <th>1</th>\n",
                            "      <td>2</td>\n",
                            "      <td>None</td>\n",
                            "      <td>None</td>\n",
                            "      <td>None</td>\n",
                            "      <td>None</td>\n",
                            "      <td>FI*Twist-Tiramisun</td>\n",
                            "      <td>2</td>\n",
                            "    </tr>\n",
                            "    <tr>\n",
                            "      <th>2</th>\n",
                            "      <td>3</td>\n",
                            "      <td>None</td>\n",
                            "      <td>None</td>\n",
                            "      <td>985154000110482</td>\n",
                            "      <td>None</td>\n",
                            "      <td>FI*Kelmikerhon</td>\n",
                            "      <td>3</td>\n",
                            "    </tr>\n",
                            "    <tr>\n",
                            "      <th>3</th>\n",
                            "      <td>4</td>\n",
                            "      <td>None</td>\n",
                            "      <td>None</td>\n",
                            "      <td>None</td>\n",
                            "      <td>None</td>\n",
                            "      <td>FI*Kelmikerhon</td>\n",
                            "      <td>4</td>\n",
                            "    </tr>\n",
                            "    <tr>\n",
                            "      <th>4</th>\n",
                            "      <td>5</td>\n",
                            "      <td>None</td>\n",
                            "      <td>None</td>\n",
                            "      <td>981098102723783</td>\n",
                            "      <td>None</td>\n",
                            "      <td>FI*Kelmikerhon</td>\n",
                            "      <td>5</td>\n",
                            "    </tr>\n",
                            "  </tbody>\n",
                            "</table>\n",
                            "</div>"
                        ],
                        "text/plain": [
                            "   id title_before title_after             chip verified_status  \\\n",
                            "0   1         None        None             None            None   \n",
                            "1   2         None        None             None            None   \n",
                            "2   3         None        None  985154000110482            None   \n",
                            "3   4         None        None             None            None   \n",
                            "4   5         None        None  981098102723783            None   \n",
                            "\n",
                            "              cattery  cat_id  \n",
                            "0         FI*Hömpötin       1  \n",
                            "1  FI*Twist-Tiramisun       2  \n",
                            "2      FI*Kelmikerhon       3  \n",
                            "3      FI*Kelmikerhon       4  \n",
                            "4      FI*Kelmikerhon       5  "
                        ]
                    },
                    "execution_count": 11,
                    "metadata": {},
                    "output_type": "execute_result"
                }
            ],
            "source": [
                "cat_informations_df.head(5)"
            ]
        },
        {
            "cell_type": "code",
            "execution_count": 12,
            "metadata": {},
            "outputs": [
                {
                    "data": {
                        "application/vnd.microsoft.datawrangler.viewer.v0+json": {
                            "columns": [
                                {
                                    "name": "index",
                                    "rawType": "int64",
                                    "type": "integer"
                                },
                                {
                                    "name": "id",
                                    "rawType": "int64",
                                    "type": "integer"
                                },
                                {
                                    "name": "cat_id",
                                    "rawType": "int64",
                                    "type": "integer"
                                },
                                {
                                    "name": "father_id",
                                    "rawType": "float64",
                                    "type": "float"
                                },
                                {
                                    "name": "mother_id",
                                    "rawType": "float64",
                                    "type": "float"
                                },
                                {
                                    "name": "father_name",
                                    "rawType": "object",
                                    "type": "string"
                                },
                                {
                                    "name": "mother_name",
                                    "rawType": "object",
                                    "type": "string"
                                },
                                {
                                    "name": "father_reg_number",
                                    "rawType": "object",
                                    "type": "string"
                                },
                                {
                                    "name": "mother_reg_number",
                                    "rawType": "object",
                                    "type": "string"
                                }
                            ],
                            "conversionMethod": "pd.DataFrame",
                            "ref": "2bb00280-4d92-4173-86d8-6b589cafadff",
                            "rows": [
                                [
                                    "0",
                                    "1",
                                    "1",
                                    "23276.0",
                                    "32482.0",
                                    "Torero",
                                    "Britney",
                                    "FIN SRK LO 82451",
                                    "FIN SRK LO 82200"
                                ],
                                [
                                    "1",
                                    "2",
                                    "2",
                                    "39075.0",
                                    "31819.0",
                                    "Kauko Kiito",
                                    "Ilosofi",
                                    "FI SRK LO 36077",
                                    "FIN SRK LO 34506"
                                ],
                                [
                                    "2",
                                    "3",
                                    "3",
                                    "39075.0",
                                    "39061.0",
                                    "Kauko Kiito",
                                    "Unikonsiemen",
                                    "FI SRK LO 36077",
                                    "FI SRK LO 36119"
                                ],
                                [
                                    "3",
                                    "4",
                                    "4",
                                    "39075.0",
                                    "39061.0",
                                    "Kauko Kiito",
                                    "Unikonsiemen",
                                    "FI SRK LO 36077",
                                    "FI SRK LO 36119"
                                ],
                                [
                                    "4",
                                    "5",
                                    "5",
                                    "39075.0",
                                    "39061.0",
                                    "Kauko Kiito",
                                    "Unikonsiemen",
                                    "FI SRK LO 36077",
                                    "FI SRK LO 36119"
                                ]
                            ],
                            "shape": {
                                "columns": 8,
                                "rows": 5
                            }
                        },
                        "text/html": [
                            "<div>\n",
                            "<style scoped>\n",
                            "    .dataframe tbody tr th:only-of-type {\n",
                            "        vertical-align: middle;\n",
                            "    }\n",
                            "\n",
                            "    .dataframe tbody tr th {\n",
                            "        vertical-align: top;\n",
                            "    }\n",
                            "\n",
                            "    .dataframe thead th {\n",
                            "        text-align: right;\n",
                            "    }\n",
                            "</style>\n",
                            "<table border=\"1\" class=\"dataframe\">\n",
                            "  <thead>\n",
                            "    <tr style=\"text-align: right;\">\n",
                            "      <th></th>\n",
                            "      <th>id</th>\n",
                            "      <th>cat_id</th>\n",
                            "      <th>father_id</th>\n",
                            "      <th>mother_id</th>\n",
                            "      <th>father_name</th>\n",
                            "      <th>mother_name</th>\n",
                            "      <th>father_reg_number</th>\n",
                            "      <th>mother_reg_number</th>\n",
                            "    </tr>\n",
                            "  </thead>\n",
                            "  <tbody>\n",
                            "    <tr>\n",
                            "      <th>0</th>\n",
                            "      <td>1</td>\n",
                            "      <td>1</td>\n",
                            "      <td>23276.0</td>\n",
                            "      <td>32482.0</td>\n",
                            "      <td>Torero</td>\n",
                            "      <td>Britney</td>\n",
                            "      <td>FIN SRK LO 82451</td>\n",
                            "      <td>FIN SRK LO 82200</td>\n",
                            "    </tr>\n",
                            "    <tr>\n",
                            "      <th>1</th>\n",
                            "      <td>2</td>\n",
                            "      <td>2</td>\n",
                            "      <td>39075.0</td>\n",
                            "      <td>31819.0</td>\n",
                            "      <td>Kauko Kiito</td>\n",
                            "      <td>Ilosofi</td>\n",
                            "      <td>FI SRK LO 36077</td>\n",
                            "      <td>FIN SRK LO 34506</td>\n",
                            "    </tr>\n",
                            "    <tr>\n",
                            "      <th>2</th>\n",
                            "      <td>3</td>\n",
                            "      <td>3</td>\n",
                            "      <td>39075.0</td>\n",
                            "      <td>39061.0</td>\n",
                            "      <td>Kauko Kiito</td>\n",
                            "      <td>Unikonsiemen</td>\n",
                            "      <td>FI SRK LO 36077</td>\n",
                            "      <td>FI SRK LO 36119</td>\n",
                            "    </tr>\n",
                            "    <tr>\n",
                            "      <th>3</th>\n",
                            "      <td>4</td>\n",
                            "      <td>4</td>\n",
                            "      <td>39075.0</td>\n",
                            "      <td>39061.0</td>\n",
                            "      <td>Kauko Kiito</td>\n",
                            "      <td>Unikonsiemen</td>\n",
                            "      <td>FI SRK LO 36077</td>\n",
                            "      <td>FI SRK LO 36119</td>\n",
                            "    </tr>\n",
                            "    <tr>\n",
                            "      <th>4</th>\n",
                            "      <td>5</td>\n",
                            "      <td>5</td>\n",
                            "      <td>39075.0</td>\n",
                            "      <td>39061.0</td>\n",
                            "      <td>Kauko Kiito</td>\n",
                            "      <td>Unikonsiemen</td>\n",
                            "      <td>FI SRK LO 36077</td>\n",
                            "      <td>FI SRK LO 36119</td>\n",
                            "    </tr>\n",
                            "  </tbody>\n",
                            "</table>\n",
                            "</div>"
                        ],
                        "text/plain": [
                            "   id  cat_id  father_id  mother_id  father_name   mother_name  \\\n",
                            "0   1       1    23276.0    32482.0       Torero       Britney   \n",
                            "1   2       2    39075.0    31819.0  Kauko Kiito       Ilosofi   \n",
                            "2   3       3    39075.0    39061.0  Kauko Kiito  Unikonsiemen   \n",
                            "3   4       4    39075.0    39061.0  Kauko Kiito  Unikonsiemen   \n",
                            "4   5       5    39075.0    39061.0  Kauko Kiito  Unikonsiemen   \n",
                            "\n",
                            "  father_reg_number mother_reg_number  \n",
                            "0  FIN SRK LO 82451  FIN SRK LO 82200  \n",
                            "1   FI SRK LO 36077  FIN SRK LO 34506  \n",
                            "2   FI SRK LO 36077   FI SRK LO 36119  \n",
                            "3   FI SRK LO 36077   FI SRK LO 36119  \n",
                            "4   FI SRK LO 36077   FI SRK LO 36119  "
                        ]
                    },
                    "execution_count": 12,
                    "metadata": {},
                    "output_type": "execute_result"
                }
            ],
            "source": [
                "cat_references_df.head(5)"
            ]
        },
        {
            "cell_type": "code",
            "execution_count": 13,
            "metadata": {},
            "outputs": [
                {
                    "data": {
                        "application/vnd.microsoft.datawrangler.viewer.v0+json": {
                            "columns": [
                                {
                                    "name": "index",
                                    "rawType": "int64",
                                    "type": "integer"
                                },
                                {
                                    "name": "id",
                                    "rawType": "int64",
                                    "type": "integer"
                                },
                                {
                                    "name": "code",
                                    "rawType": "object",
                                    "type": "string"
                                }
                            ],
                            "conversionMethod": "pd.DataFrame",
                            "ref": "c27a7096-901c-46eb-9cf4-ab761e1ac186",
                            "rows": [
                                [
                                    "0",
                                    "1",
                                    "EXO"
                                ],
                                [
                                    "1",
                                    "2",
                                    "PER"
                                ],
                                [
                                    "2",
                                    "3",
                                    "RAG"
                                ],
                                [
                                    "3",
                                    "4",
                                    "SBI"
                                ],
                                [
                                    "4",
                                    "5",
                                    "TUV"
                                ]
                            ],
                            "shape": {
                                "columns": 2,
                                "rows": 5
                            }
                        },
                        "text/html": [
                            "<div>\n",
                            "<style scoped>\n",
                            "    .dataframe tbody tr th:only-of-type {\n",
                            "        vertical-align: middle;\n",
                            "    }\n",
                            "\n",
                            "    .dataframe tbody tr th {\n",
                            "        vertical-align: top;\n",
                            "    }\n",
                            "\n",
                            "    .dataframe thead th {\n",
                            "        text-align: right;\n",
                            "    }\n",
                            "</style>\n",
                            "<table border=\"1\" class=\"dataframe\">\n",
                            "  <thead>\n",
                            "    <tr style=\"text-align: right;\">\n",
                            "      <th></th>\n",
                            "      <th>id</th>\n",
                            "      <th>code</th>\n",
                            "    </tr>\n",
                            "  </thead>\n",
                            "  <tbody>\n",
                            "    <tr>\n",
                            "      <th>0</th>\n",
                            "      <td>1</td>\n",
                            "      <td>EXO</td>\n",
                            "    </tr>\n",
                            "    <tr>\n",
                            "      <th>1</th>\n",
                            "      <td>2</td>\n",
                            "      <td>PER</td>\n",
                            "    </tr>\n",
                            "    <tr>\n",
                            "      <th>2</th>\n",
                            "      <td>3</td>\n",
                            "      <td>RAG</td>\n",
                            "    </tr>\n",
                            "    <tr>\n",
                            "      <th>3</th>\n",
                            "      <td>4</td>\n",
                            "      <td>SBI</td>\n",
                            "    </tr>\n",
                            "    <tr>\n",
                            "      <th>4</th>\n",
                            "      <td>5</td>\n",
                            "      <td>TUV</td>\n",
                            "    </tr>\n",
                            "  </tbody>\n",
                            "</table>\n",
                            "</div>"
                        ],
                        "text/plain": [
                            "   id code\n",
                            "0   1  EXO\n",
                            "1   2  PER\n",
                            "2   3  RAG\n",
                            "3   4  SBI\n",
                            "4   5  TUV"
                        ]
                    },
                    "execution_count": 13,
                    "metadata": {},
                    "output_type": "execute_result"
                }
            ],
            "source": [
                "breeds_df.head(5)"
            ]
        },
        {
            "cell_type": "code",
            "execution_count": 14,
            "metadata": {},
            "outputs": [
                {
                    "data": {
                        "application/vnd.microsoft.datawrangler.viewer.v0+json": {
                            "columns": [
                                {
                                    "name": "index",
                                    "rawType": "int64",
                                    "type": "integer"
                                },
                                {
                                    "name": "id",
                                    "rawType": "int64",
                                    "type": "integer"
                                },
                                {
                                    "name": "content",
                                    "rawType": "object",
                                    "type": "string"
                                },
                                {
                                    "name": "type",
                                    "rawType": "object",
                                    "type": "string"
                                },
                                {
                                    "name": "cat_id",
                                    "rawType": "int64",
                                    "type": "integer"
                                },
                                {
                                    "name": "created_at",
                                    "rawType": "datetime64[ns, UTC]",
                                    "type": "unknown"
                                },
                                {
                                    "name": "updated_at",
                                    "rawType": "datetime64[ns, UTC]",
                                    "type": "unknown"
                                }
                            ],
                            "conversionMethod": "pd.DataFrame",
                            "ref": "c16dafc0-20c6-4e03-9c31-8efcfc851265",
                            "rows": [
                                [
                                    "0",
                                    "1",
                                    "Selbstbewusst",
                                    "NOTE",
                                    "297070",
                                    "2024-01-27 08:55:29.582031+00:00",
                                    "2024-01-27 08:55:29.582031+00:00"
                                ],
                                [
                                    "1",
                                    "2",
                                    "Internationale Katzenausstellung Bassum 02.07.2005•Internationale Katzenausstellung Verden 16.04.2005•Internationale Katzenausstellung Bruchhausen/Vilsen 20.03.2005•Internationale Katzenausstellung Bruchhausen/Vilsen 19.03.2005•Internationale Katzenausstellung Barsinghausen 05.09.2004•Internationale Katzenausstellung Barsinghausen 05.09.2004•Internationale Katzenausstellung Barsinghausen 04.09.2004•Internationale Katzenausstellung Delmenhorst 09.11.2002•Internationale Katzenausstellung Hamburg 11.08.2002•Internationale Katzenausstellung Hamburg 10.08.2002•Internationale Katzenausstellung Kiel 08.07.2001•Internationale Katzenausstellung Kiel 07.07.2001•Internationale Katzenausstellung Barsinghausen 10.06.2001•Internationale Katzenausstellung Barsinghausen 09.06.2001•Internationale Katzenausstellung Jesteburg 20.05.2001•Internationale Katzenausstellung Jesteburg 19.05.2001•Internationale Katzenausstellung Hamburg 11.03.2001•Internationale Katzenausstellung Osterode 25.02.2001•Internationale Katzenausstellung Osterode 24.02.2001•Internationale Katzenausstellung Cloppenburg 19.11.2000•Internationale Katzenausstellung Cloppenburg 18.11.2000•Internationale Katzenausstellung Fallingbostel 22.10.2000•Internationale Katzenausstellung Fallingbostel 21.10.2000•Internationale Katzenausstellung Osnabrück 08.10.2000•Internationale Katzenausstellung Garbsen 10.09.2000•Internationale Katzenausstellung Bremen 23.04.2000•Internationale Katzenausstellung Bremen 22.04.2000•Internationale Katzenausstellung Delmenhorst 09.04.2000•Internationale Katzenausstellung Delmenhorst 08.04.2000•Internationale Katzenausstellung Hamburg 29.01.2000•Internationale Katzenausstellung Buxtehude 12.12.1999•Internationale Katzenausstellung Buxtehude 11.12.1999•Internationale Katzenausstellung Heerenveen 07.11.1999•Internationale Katzenausstellung Hellevoetsluis 31.10.1999•Internationale Katzenausstellung Cloppenburg 03.10.1999•Internationale Katzenausstellung Cloppenburg 02.10.1999•Internationale Katzenausstellung Haan Gruiten 12.09.1999•Internationale Katzenausstellung Haan Gruiten 11.09.1999•Internationale Katzenausstellung Hameln 08.08.1999•Internationale Katzenausstellung Bünde 13.06.1999•Internationale Katzenausstellung Olfen 13.03.1999",
                                    "AWARD",
                                    "297070",
                                    "2024-01-27 08:55:29.582031+00:00",
                                    "2024-01-27 08:55:29.582031+00:00"
                                ],
                                [
                                    "2",
                                    "3",
                                    "Superschmusiger tollpatschiger Clown",
                                    "NOTE",
                                    "297071",
                                    "2024-01-27 08:55:29.582031+00:00",
                                    "2024-01-27 08:55:29.582031+00:00"
                                ],
                                [
                                    "3",
                                    "4",
                                    "Internationale Katzenausstellung Tostedt 02.03.2008•Internationale Katzenausstellung Tostedt 01.03.2008•Internationale Katzenausstellung Pr. Ströhen 04.06.2006•Internationale Katzenausstellung Pr. Ströhen 03.06.2006•Internationale Katzenausstellung Hoya 20.11.2005•Internationale Katzenausstellung Hoya 19.11.2005•Internationale Katzenausstellung Northeim 15.10.2005•Internationale Katzenausstellung Bassum 02.07.2005•Internationale Katzenausstellung Celle 15.05.2005•Internationale Katzenausstellung Celle 15.05.2005•Internationale Katzenausstellung Celle 14.05.2005•Internationale Katzenausstellung Bruchhausen/Vilsen 20.03.2005•Internationale Katzenausstellung Bruchhausen/Vilsen 19.03.2005•Internationale Katzenausstellung Delmenhorst 05.12.2004•Internationale Katzenausstellung Delmenhorst 04.12.2004•Internationale Katzenausstellung Barsinghausen 05.09.2004•Internationale Katzenausstellung Barsinghausen 04.09.2004•Internationale Katzenausstellung Bremen 30.05.2004•Internationale Katzenausstellung Bremen 29.05.2004•Internationale Katzenausstellung Bruchhausen-Vilsen 21.03.2004•Internationale Katzenausstellung Bruchhausen-Vilsen 20.03.2004•Internationale Katzenausstellung Bruchhausen-Vilsen 20.03.2004•Internationale Katzenausstellung Barsinghausen 29.02.2004•Internationale Katzenausstellung Barsinghausen 28.02.2004•Internationale Katzenausstellung Winsen/Luhe 15.02.2004•Internationale Katzenausstellung Bovenden 11.10.2003•Internationale Katzenausstellung Badenstedt 06.09.2003",
                                    "AWARD",
                                    "297071",
                                    "2024-01-27 08:55:29.582031+00:00",
                                    "2024-01-27 08:55:29.582031+00:00"
                                ],
                                [
                                    "4",
                                    "5",
                                    "verspielte Kuschel(Frauchen)katze",
                                    "NOTE",
                                    "297072",
                                    "2024-01-27 08:55:29.582031+00:00",
                                    "2024-01-27 08:55:29.582031+00:00"
                                ]
                            ],
                            "shape": {
                                "columns": 6,
                                "rows": 5
                            }
                        },
                        "text/html": [
                            "<div>\n",
                            "<style scoped>\n",
                            "    .dataframe tbody tr th:only-of-type {\n",
                            "        vertical-align: middle;\n",
                            "    }\n",
                            "\n",
                            "    .dataframe tbody tr th {\n",
                            "        vertical-align: top;\n",
                            "    }\n",
                            "\n",
                            "    .dataframe thead th {\n",
                            "        text-align: right;\n",
                            "    }\n",
                            "</style>\n",
                            "<table border=\"1\" class=\"dataframe\">\n",
                            "  <thead>\n",
                            "    <tr style=\"text-align: right;\">\n",
                            "      <th></th>\n",
                            "      <th>id</th>\n",
                            "      <th>content</th>\n",
                            "      <th>type</th>\n",
                            "      <th>cat_id</th>\n",
                            "      <th>created_at</th>\n",
                            "      <th>updated_at</th>\n",
                            "    </tr>\n",
                            "  </thead>\n",
                            "  <tbody>\n",
                            "    <tr>\n",
                            "      <th>0</th>\n",
                            "      <td>1</td>\n",
                            "      <td>Selbstbewusst</td>\n",
                            "      <td>NOTE</td>\n",
                            "      <td>297070</td>\n",
                            "      <td>2024-01-27 08:55:29.582031+00:00</td>\n",
                            "      <td>2024-01-27 08:55:29.582031+00:00</td>\n",
                            "    </tr>\n",
                            "    <tr>\n",
                            "      <th>1</th>\n",
                            "      <td>2</td>\n",
                            "      <td>Internationale Katzenausstellung Bassum 02.07....</td>\n",
                            "      <td>AWARD</td>\n",
                            "      <td>297070</td>\n",
                            "      <td>2024-01-27 08:55:29.582031+00:00</td>\n",
                            "      <td>2024-01-27 08:55:29.582031+00:00</td>\n",
                            "    </tr>\n",
                            "    <tr>\n",
                            "      <th>2</th>\n",
                            "      <td>3</td>\n",
                            "      <td>Superschmusiger tollpatschiger Clown</td>\n",
                            "      <td>NOTE</td>\n",
                            "      <td>297071</td>\n",
                            "      <td>2024-01-27 08:55:29.582031+00:00</td>\n",
                            "      <td>2024-01-27 08:55:29.582031+00:00</td>\n",
                            "    </tr>\n",
                            "    <tr>\n",
                            "      <th>3</th>\n",
                            "      <td>4</td>\n",
                            "      <td>Internationale Katzenausstellung Tostedt 02.03...</td>\n",
                            "      <td>AWARD</td>\n",
                            "      <td>297071</td>\n",
                            "      <td>2024-01-27 08:55:29.582031+00:00</td>\n",
                            "      <td>2024-01-27 08:55:29.582031+00:00</td>\n",
                            "    </tr>\n",
                            "    <tr>\n",
                            "      <th>4</th>\n",
                            "      <td>5</td>\n",
                            "      <td>verspielte Kuschel(Frauchen)katze</td>\n",
                            "      <td>NOTE</td>\n",
                            "      <td>297072</td>\n",
                            "      <td>2024-01-27 08:55:29.582031+00:00</td>\n",
                            "      <td>2024-01-27 08:55:29.582031+00:00</td>\n",
                            "    </tr>\n",
                            "  </tbody>\n",
                            "</table>\n",
                            "</div>"
                        ],
                        "text/plain": [
                            "   id                                            content   type  cat_id  \\\n",
                            "0   1                                      Selbstbewusst   NOTE  297070   \n",
                            "1   2  Internationale Katzenausstellung Bassum 02.07....  AWARD  297070   \n",
                            "2   3               Superschmusiger tollpatschiger Clown   NOTE  297071   \n",
                            "3   4  Internationale Katzenausstellung Tostedt 02.03...  AWARD  297071   \n",
                            "4   5                  verspielte Kuschel(Frauchen)katze   NOTE  297072   \n",
                            "\n",
                            "                        created_at                       updated_at  \n",
                            "0 2024-01-27 08:55:29.582031+00:00 2024-01-27 08:55:29.582031+00:00  \n",
                            "1 2024-01-27 08:55:29.582031+00:00 2024-01-27 08:55:29.582031+00:00  \n",
                            "2 2024-01-27 08:55:29.582031+00:00 2024-01-27 08:55:29.582031+00:00  \n",
                            "3 2024-01-27 08:55:29.582031+00:00 2024-01-27 08:55:29.582031+00:00  \n",
                            "4 2024-01-27 08:55:29.582031+00:00 2024-01-27 08:55:29.582031+00:00  "
                        ]
                    },
                    "execution_count": 14,
                    "metadata": {},
                    "output_type": "execute_result"
                }
            ],
            "source": [
                "links_df.head(5)"
            ]
        },
        {
            "cell_type": "code",
            "execution_count": 15,
            "metadata": {},
            "outputs": [
                {
                    "data": {
                        "application/vnd.microsoft.datawrangler.viewer.v0+json": {
                            "columns": [
                                {
                                    "name": "index",
                                    "rawType": "int64",
                                    "type": "integer"
                                },
                                {
                                    "name": "user_id",
                                    "rawType": "object",
                                    "type": "string"
                                },
                                {
                                    "name": "breed_id",
                                    "rawType": "object",
                                    "type": "string"
                                }
                            ],
                            "conversionMethod": "pd.DataFrame",
                            "ref": "6fcf2312-cb33-48cc-a13e-10c3a0713ea9",
                            "rows": [],
                            "shape": {
                                "columns": 2,
                                "rows": 0
                            }
                        },
                        "text/html": [
                            "<div>\n",
                            "<style scoped>\n",
                            "    .dataframe tbody tr th:only-of-type {\n",
                            "        vertical-align: middle;\n",
                            "    }\n",
                            "\n",
                            "    .dataframe tbody tr th {\n",
                            "        vertical-align: top;\n",
                            "    }\n",
                            "\n",
                            "    .dataframe thead th {\n",
                            "        text-align: right;\n",
                            "    }\n",
                            "</style>\n",
                            "<table border=\"1\" class=\"dataframe\">\n",
                            "  <thead>\n",
                            "    <tr style=\"text-align: right;\">\n",
                            "      <th></th>\n",
                            "      <th>user_id</th>\n",
                            "      <th>breed_id</th>\n",
                            "    </tr>\n",
                            "  </thead>\n",
                            "  <tbody>\n",
                            "  </tbody>\n",
                            "</table>\n",
                            "</div>"
                        ],
                        "text/plain": [
                            "Empty DataFrame\n",
                            "Columns: [user_id, breed_id]\n",
                            "Index: []"
                        ]
                    },
                    "execution_count": 15,
                    "metadata": {},
                    "output_type": "execute_result"
                }
            ],
            "source": [
                "user_breeds_df.head(5)"
            ]
        },
        {
            "cell_type": "code",
            "execution_count": 16,
            "metadata": {},
            "outputs": [
                {
                    "data": {
                        "application/vnd.microsoft.datawrangler.viewer.v0+json": {
                            "columns": [
                                {
                                    "name": "index",
                                    "rawType": "int64",
                                    "type": "integer"
                                },
                                {
                                    "name": "id",
                                    "rawType": "object",
                                    "type": "string"
                                },
                                {
                                    "name": "current",
                                    "rawType": "object",
                                    "type": "string"
                                },
                                {
                                    "name": "updated",
                                    "rawType": "object",
                                    "type": "string"
                                },
                                {
                                    "name": "cat_id",
                                    "rawType": "object",
                                    "type": "string"
                                },
                                {
                                    "name": "created_at",
                                    "rawType": "object",
                                    "type": "string"
                                }
                            ],
                            "conversionMethod": "pd.DataFrame",
                            "ref": "6b601466-7628-41e5-8a0b-6e53a5b2afba",
                            "rows": [],
                            "shape": {
                                "columns": 5,
                                "rows": 0
                            }
                        },
                        "text/html": [
                            "<div>\n",
                            "<style scoped>\n",
                            "    .dataframe tbody tr th:only-of-type {\n",
                            "        vertical-align: middle;\n",
                            "    }\n",
                            "\n",
                            "    .dataframe tbody tr th {\n",
                            "        vertical-align: top;\n",
                            "    }\n",
                            "\n",
                            "    .dataframe thead th {\n",
                            "        text-align: right;\n",
                            "    }\n",
                            "</style>\n",
                            "<table border=\"1\" class=\"dataframe\">\n",
                            "  <thead>\n",
                            "    <tr style=\"text-align: right;\">\n",
                            "      <th></th>\n",
                            "      <th>id</th>\n",
                            "      <th>current</th>\n",
                            "      <th>updated</th>\n",
                            "      <th>cat_id</th>\n",
                            "      <th>created_at</th>\n",
                            "    </tr>\n",
                            "  </thead>\n",
                            "  <tbody>\n",
                            "  </tbody>\n",
                            "</table>\n",
                            "</div>"
                        ],
                        "text/plain": [
                            "Empty DataFrame\n",
                            "Columns: [id, current, updated, cat_id, created_at]\n",
                            "Index: []"
                        ]
                    },
                    "execution_count": 16,
                    "metadata": {},
                    "output_type": "execute_result"
                }
            ],
            "source": [
                "cat_histories_df.head(5)"
            ]
        },
        {
            "cell_type": "code",
            "execution_count": 17,
            "metadata": {},
            "outputs": [
                {
                    "data": {
                        "application/vnd.microsoft.datawrangler.viewer.v0+json": {
                            "columns": [
                                {
                                    "name": "index",
                                    "rawType": "int64",
                                    "type": "integer"
                                },
                                {
                                    "name": "id",
                                    "rawType": "int64",
                                    "type": "integer"
                                },
                                {
                                    "name": "name",
                                    "rawType": "object",
                                    "type": "string"
                                }
                            ],
                            "conversionMethod": "pd.DataFrame",
                            "ref": "8c1483d0-8d78-4fec-afc8-228fd10108de",
                            "rows": [
                                [
                                    "0",
                                    "1",
                                    "USER"
                                ],
                                [
                                    "1",
                                    "2",
                                    "ADMIN"
                                ],
                                [
                                    "2",
                                    "3",
                                    "SUPERADMIN"
                                ]
                            ],
                            "shape": {
                                "columns": 2,
                                "rows": 3
                            }
                        },
                        "text/html": [
                            "<div>\n",
                            "<style scoped>\n",
                            "    .dataframe tbody tr th:only-of-type {\n",
                            "        vertical-align: middle;\n",
                            "    }\n",
                            "\n",
                            "    .dataframe tbody tr th {\n",
                            "        vertical-align: top;\n",
                            "    }\n",
                            "\n",
                            "    .dataframe thead th {\n",
                            "        text-align: right;\n",
                            "    }\n",
                            "</style>\n",
                            "<table border=\"1\" class=\"dataframe\">\n",
                            "  <thead>\n",
                            "    <tr style=\"text-align: right;\">\n",
                            "      <th></th>\n",
                            "      <th>id</th>\n",
                            "      <th>name</th>\n",
                            "    </tr>\n",
                            "  </thead>\n",
                            "  <tbody>\n",
                            "    <tr>\n",
                            "      <th>0</th>\n",
                            "      <td>1</td>\n",
                            "      <td>USER</td>\n",
                            "    </tr>\n",
                            "    <tr>\n",
                            "      <th>1</th>\n",
                            "      <td>2</td>\n",
                            "      <td>ADMIN</td>\n",
                            "    </tr>\n",
                            "    <tr>\n",
                            "      <th>2</th>\n",
                            "      <td>3</td>\n",
                            "      <td>SUPERADMIN</td>\n",
                            "    </tr>\n",
                            "  </tbody>\n",
                            "</table>\n",
                            "</div>"
                        ],
                        "text/plain": [
                            "   id        name\n",
                            "0   1        USER\n",
                            "1   2       ADMIN\n",
                            "2   3  SUPERADMIN"
                        ]
                    },
                    "execution_count": 17,
                    "metadata": {},
                    "output_type": "execute_result"
                }
            ],
            "source": [
                "roles_df.head(5)"
            ]
        },
        {
            "cell_type": "code",
            "execution_count": 18,
            "metadata": {},
            "outputs": [
                {
                    "data": {
                        "application/vnd.microsoft.datawrangler.viewer.v0+json": {
                            "columns": [
                                {
                                    "name": "index",
                                    "rawType": "int64",
                                    "type": "integer"
                                },
                                {
                                    "name": "id",
                                    "rawType": "int64",
                                    "type": "integer"
                                },
                                {
                                    "name": "fullname",
                                    "rawType": "object",
                                    "type": "string"
                                },
                                {
                                    "name": "email",
                                    "rawType": "object",
                                    "type": "string"
                                },
                                {
                                    "name": "password",
                                    "rawType": "object",
                                    "type": "string"
                                },
                                {
                                    "name": "remember_me_token",
                                    "rawType": "object",
                                    "type": "unknown"
                                },
                                {
                                    "name": "role_id",
                                    "rawType": "int64",
                                    "type": "integer"
                                },
                                {
                                    "name": "created_at",
                                    "rawType": "datetime64[ns, UTC]",
                                    "type": "unknown"
                                },
                                {
                                    "name": "updated_at",
                                    "rawType": "datetime64[ns, UTC]",
                                    "type": "unknown"
                                },
                                {
                                    "name": "verified",
                                    "rawType": "bool",
                                    "type": "boolean"
                                },
                                {
                                    "name": "email_date",
                                    "rawType": "object",
                                    "type": "unknown"
                                },
                                {
                                    "name": "code",
                                    "rawType": "object",
                                    "type": "unknown"
                                }
                            ],
                            "conversionMethod": "pd.DataFrame",
                            "ref": "658deabe-b76b-4701-8695-c0404e007758",
                            "rows": [
                                [
                                    "0",
                                    "1",
                                    "Monika Kováčová",
                                    "monika.kovacova@stuba.sk",
                                    "$argon2id$v=19$t=3,m=4096,p=1$DHyBy+9NLsK/HiKJauWk9Q$HnRCq23COLzW/rLlvmvgg1iGr9PrmC8kjaZ8cVVDrL8",
                                    null,
                                    "3",
                                    "2024-01-27 08:53:58.693000+00:00",
                                    "2024-01-27 08:53:58.693000+00:00",
                                    "True",
                                    null,
                                    null
                                ]
                            ],
                            "shape": {
                                "columns": 11,
                                "rows": 1
                            }
                        },
                        "text/html": [
                            "<div>\n",
                            "<style scoped>\n",
                            "    .dataframe tbody tr th:only-of-type {\n",
                            "        vertical-align: middle;\n",
                            "    }\n",
                            "\n",
                            "    .dataframe tbody tr th {\n",
                            "        vertical-align: top;\n",
                            "    }\n",
                            "\n",
                            "    .dataframe thead th {\n",
                            "        text-align: right;\n",
                            "    }\n",
                            "</style>\n",
                            "<table border=\"1\" class=\"dataframe\">\n",
                            "  <thead>\n",
                            "    <tr style=\"text-align: right;\">\n",
                            "      <th></th>\n",
                            "      <th>id</th>\n",
                            "      <th>fullname</th>\n",
                            "      <th>email</th>\n",
                            "      <th>password</th>\n",
                            "      <th>remember_me_token</th>\n",
                            "      <th>role_id</th>\n",
                            "      <th>created_at</th>\n",
                            "      <th>updated_at</th>\n",
                            "      <th>verified</th>\n",
                            "      <th>email_date</th>\n",
                            "      <th>code</th>\n",
                            "    </tr>\n",
                            "  </thead>\n",
                            "  <tbody>\n",
                            "    <tr>\n",
                            "      <th>0</th>\n",
                            "      <td>1</td>\n",
                            "      <td>Monika Kováčová</td>\n",
                            "      <td>monika.kovacova@stuba.sk</td>\n",
                            "      <td>$argon2id$v=19$t=3,m=4096,p=1$DHyBy+9NLsK/HiKJ...</td>\n",
                            "      <td>None</td>\n",
                            "      <td>3</td>\n",
                            "      <td>2024-01-27 08:53:58.693000+00:00</td>\n",
                            "      <td>2024-01-27 08:53:58.693000+00:00</td>\n",
                            "      <td>True</td>\n",
                            "      <td>None</td>\n",
                            "      <td>None</td>\n",
                            "    </tr>\n",
                            "  </tbody>\n",
                            "</table>\n",
                            "</div>"
                        ],
                        "text/plain": [
                            "   id         fullname                     email  \\\n",
                            "0   1  Monika Kováčová  monika.kovacova@stuba.sk   \n",
                            "\n",
                            "                                            password remember_me_token  \\\n",
                            "0  $argon2id$v=19$t=3,m=4096,p=1$DHyBy+9NLsK/HiKJ...              None   \n",
                            "\n",
                            "   role_id                       created_at                       updated_at  \\\n",
                            "0        3 2024-01-27 08:53:58.693000+00:00 2024-01-27 08:53:58.693000+00:00   \n",
                            "\n",
                            "   verified email_date  code  \n",
                            "0      True       None  None  "
                        ]
                    },
                    "execution_count": 18,
                    "metadata": {},
                    "output_type": "execute_result"
                }
            ],
            "source": [
                "users_df.head(5)"
            ]
        },
        {
            "cell_type": "markdown",
            "metadata": {},
            "source": [
                "We can next remove other non-informative tables:\n",
                "\n",
                "-   **user_breeds** (no data)\n",
                "-   **cat_histories** (no data)\n",
                "-   **roles** (not needed for our analysis)\n",
                "-   **users** (not needed for our analysis)\n"
            ]
        },
        {
            "cell_type": "code",
            "execution_count": 19,
            "metadata": {},
            "outputs": [
                {
                    "data": {
                        "application/vnd.microsoft.datawrangler.viewer.v0+json": {
                            "columns": [
                                {
                                    "name": "index",
                                    "rawType": "int64",
                                    "type": "integer"
                                },
                                {
                                    "name": "table_name",
                                    "rawType": "object",
                                    "type": "string"
                                }
                            ],
                            "conversionMethod": "pd.DataFrame",
                            "ref": "fb1f7687-864c-4cb3-a60c-6ff823a710a5",
                            "rows": [
                                [
                                    "0",
                                    "cats"
                                ],
                                [
                                    "1",
                                    "cat_informations"
                                ],
                                [
                                    "2",
                                    "cat_references"
                                ],
                                [
                                    "3",
                                    "breeds"
                                ]
                            ],
                            "shape": {
                                "columns": 1,
                                "rows": 4
                            }
                        },
                        "text/html": [
                            "<div>\n",
                            "<style scoped>\n",
                            "    .dataframe tbody tr th:only-of-type {\n",
                            "        vertical-align: middle;\n",
                            "    }\n",
                            "\n",
                            "    .dataframe tbody tr th {\n",
                            "        vertical-align: top;\n",
                            "    }\n",
                            "\n",
                            "    .dataframe thead th {\n",
                            "        text-align: right;\n",
                            "    }\n",
                            "</style>\n",
                            "<table border=\"1\" class=\"dataframe\">\n",
                            "  <thead>\n",
                            "    <tr style=\"text-align: right;\">\n",
                            "      <th></th>\n",
                            "      <th>table_name</th>\n",
                            "    </tr>\n",
                            "  </thead>\n",
                            "  <tbody>\n",
                            "    <tr>\n",
                            "      <th>0</th>\n",
                            "      <td>cats</td>\n",
                            "    </tr>\n",
                            "    <tr>\n",
                            "      <th>1</th>\n",
                            "      <td>cat_informations</td>\n",
                            "    </tr>\n",
                            "    <tr>\n",
                            "      <th>2</th>\n",
                            "      <td>cat_references</td>\n",
                            "    </tr>\n",
                            "    <tr>\n",
                            "      <th>3</th>\n",
                            "      <td>breeds</td>\n",
                            "    </tr>\n",
                            "  </tbody>\n",
                            "</table>\n",
                            "</div>"
                        ],
                        "text/plain": [
                            "         table_name\n",
                            "0              cats\n",
                            "1  cat_informations\n",
                            "2    cat_references\n",
                            "3            breeds"
                        ]
                    },
                    "execution_count": 19,
                    "metadata": {},
                    "output_type": "execute_result"
                }
            ],
            "source": [
                "def remove_non_informative_tables(tables):\n",
                "    non_informative_tables = [\"user_breeds\", \"cat_histories\", \"roles\", \"users\", \"links\"]\n",
                "    return tables[~tables[\"table_name\"].isin(non_informative_tables)].reset_index(drop=True)\n",
                "\n",
                "\n",
                "tables = remove_non_informative_tables(tables)\n",
                "tables"
            ]
        },
        {
            "cell_type": "markdown",
            "metadata": {},
            "source": [
                "## Further Analysis of remaining tables\n"
            ]
        },
        {
            "cell_type": "markdown",
            "metadata": {},
            "source": [
                "**cats**\n",
                "\n",
                "-   Holds general information about cats\n",
                "\n",
                "**cat_informations**\n",
                "\n",
                "-   Hold extra information about cats\n",
                "\n",
                "**cat_references**\n",
                "\n",
                "-   Hold references to other cats (e.g. parents)\n",
                "\n",
                "**breeds**\n",
                "\n",
                "-   List of breeds\n"
            ]
        }
    ],
    "metadata": {
        "kernelspec": {
            "display_name": "BachelorProject_Babiar",
            "language": "python",
            "name": "python3"
        },
        "language_info": {
            "codemirror_mode": {
                "name": "ipython",
                "version": 3
            },
            "file_extension": ".py",
            "mimetype": "text/x-python",
            "name": "python",
            "nbconvert_exporter": "python",
            "pygments_lexer": "ipython3",
            "version": "3.12.10"
        }
    },
    "nbformat": 4,
    "nbformat_minor": 2
}
