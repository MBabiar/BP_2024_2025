{
    "cells": [
        {
            "cell_type": "markdown",
            "metadata": {},
            "source": [
                "# Description\n"
            ]
        },
        {
            "cell_type": "markdown",
            "metadata": {},
            "source": [
                "Second EDA for catbase database.\n",
                "\n",
                "Focuses on analyzing data during data processing.\n"
            ]
        },
        {
            "cell_type": "markdown",
            "metadata": {},
            "source": [
                "# Start\n"
            ]
        },
        {
            "cell_type": "code",
            "execution_count": 1,
            "metadata": {},
            "outputs": [],
            "source": [
                "import os\n",
                "from pathlib import Path\n",
                "from typing import Dict\n",
                "\n",
                "import numpy as np\n",
                "import pandas as pd\n",
                "import plotly.express as px\n",
                "from dash import Dash, dcc, html\n",
                "\n",
                "from src.utils import load_data_config"
            ]
        },
        {
            "cell_type": "markdown",
            "metadata": {},
            "source": [
                "## Definitons\n"
            ]
        },
        {
            "cell_type": "code",
            "execution_count": 2,
            "metadata": {},
            "outputs": [],
            "source": [
                "data_paths, column_types = load_data_config()\n",
                "data_path_initial = Path(data_paths[\"initial\"])\n",
                "data_path_helper = Path(data_paths[\"helper\"])\n",
                "data_path_processed = Path(data_paths[\"processed\"])"
            ]
        },
        {
            "cell_type": "markdown",
            "metadata": {},
            "source": [
                "# EDA\n"
            ]
        },
        {
            "cell_type": "markdown",
            "metadata": {},
            "source": [
                "## Before data processing\n"
            ]
        },
        {
            "cell_type": "markdown",
            "metadata": {},
            "source": [
                "### Missing values\n"
            ]
        },
        {
            "cell_type": "code",
            "execution_count": 3,
            "metadata": {},
            "outputs": [
                {
                    "data": {
                        "text/html": [
                            "\n",
                            "        <iframe\n",
                            "            width=\"100%\"\n",
                            "            height=\"650\"\n",
                            "            src=\"http://127.0.0.1:8050/\"\n",
                            "            frameborder=\"0\"\n",
                            "            allowfullscreen\n",
                            "            \n",
                            "        ></iframe>\n",
                            "        "
                        ],
                        "text/plain": [
                            "<IPython.lib.display.IFrame at 0x24cbff9bec0>"
                        ]
                    },
                    "metadata": {},
                    "output_type": "display_data"
                }
            ],
            "source": [
                "def show_missing_values():\n",
                "    all_cats_df = pd.read_csv(f\"{data_path_initial}/all_cats.csv\", dtype=column_types, low_memory=False)\n",
                "\n",
                "    missing_values = all_cats_df.isnull().mean() * 100\n",
                "    missing_values = missing_values.sort_values(ascending=False)\n",
                "\n",
                "    app = Dash(__name__)\n",
                "\n",
                "    fig = px.bar(\n",
                "        x=missing_values.index,\n",
                "        y=missing_values.values,\n",
                "        title=\"Percentage of Missing Values by Column\",\n",
                "        labels={\"x\": \"Columns\", \"y\": \"Missing Values (%)\"},\n",
                "        color_discrete_sequence=[\"#FF7F0F\"],\n",
                "    )\n",
                "\n",
                "    fig.update_traces(\n",
                "        text=missing_values.values.round(0),\n",
                "    )\n",
                "\n",
                "    fig.update_layout(\n",
                "        hovermode=\"x unified\",\n",
                "    )\n",
                "\n",
                "    app.layout = html.Div([dcc.Graph(id=\"missing-values-graph\", figure=fig)])\n",
                "\n",
                "    app.run()\n",
                "\n",
                "\n",
                "show_missing_values()"
            ]
        },
        {
            "cell_type": "markdown",
            "metadata": {},
            "source": [
                "### Same country\n"
            ]
        },
        {
            "cell_type": "code",
            "execution_count": 4,
            "metadata": {},
            "outputs": [],
            "source": [
                "def same_country(row: pd.Series) -> int:\n",
                "    \"\"\"\n",
                "    Check if the country of origin is the same as the current country.\n",
                "\n",
                "    :param row: A row from the DataFrame.\n",
                "    :returns: 1 if the countries are same, 0 otherwise.\n",
                "    \"\"\"\n",
                "    if row[\"country_origin\"] == row[\"country_current\"]:\n",
                "        return 1\n",
                "    if pd.isna(row[\"country_origin\"]) and pd.isna(row[\"country_current\"]):\n",
                "        return 1\n",
                "    return 0"
            ]
        },
        {
            "cell_type": "code",
            "execution_count": 5,
            "metadata": {},
            "outputs": [
                {
                    "name": "stdout",
                    "output_type": "stream",
                    "text": [
                        "\n",
                        "Country Origin vs Current Country Analysis:\n",
                        "---------------------------------------------\n",
                        "Same country: 1,928,762 cats (88.3%)\n",
                        "Different country: 255,145 cats (11.7%)\n"
                    ]
                }
            ],
            "source": [
                "def show_country_check():\n",
                "    all_cats_df = pd.read_csv(\n",
                "        f\"{data_path_initial}/all_cats.csv\",\n",
                "        usecols=[\"country_origin\", \"country_current\"],\n",
                "        dtype=column_types,\n",
                "        low_memory=False,\n",
                "    )\n",
                "\n",
                "    all_cats_df[\"country_check\"] = all_cats_df.apply(same_country, axis=1)\n",
                "\n",
                "    value_counts = all_cats_df[\"country_check\"].value_counts()\n",
                "    percentages = all_cats_df[\"country_check\"].value_counts(normalize=True) * 100\n",
                "\n",
                "    print(\"\\nCountry Origin vs Current Country Analysis:\")\n",
                "    print(\"-\" * 45)\n",
                "    for value in value_counts.index:\n",
                "        count = value_counts[value]\n",
                "        percentage = percentages[value]\n",
                "        status = \"Same country\" if value else \"Different country\"\n",
                "        print(f\"{status}: {count:,} cats ({percentage:.1f}%)\")\n",
                "\n",
                "\n",
                "show_country_check()"
            ]
        },
        {
            "cell_type": "markdown",
            "metadata": {},
            "source": [
                "## During data processing phase 3\n"
            ]
        },
        {
            "cell_type": "markdown",
            "metadata": {},
            "source": [
                "### Countries\n"
            ]
        },
        {
            "cell_type": "markdown",
            "metadata": {},
            "source": [
                "Identifies country codes that are present in the dataset but don't have corresponding country names mapped to them\n"
            ]
        },
        {
            "cell_type": "code",
            "execution_count": 6,
            "metadata": {},
            "outputs": [],
            "source": [
                "all_cats_df = pd.read_csv(\n",
                "    f\"{data_path_processed}/all_cats_first_fixes.csv\",\n",
                "    usecols=[\"cat_id\", \"country_origin\", \"country_current\", \"country_origin_name\", \"country_current_name\"],\n",
                "    dtype=column_types,\n",
                "    low_memory=False,\n",
                ")"
            ]
        },
        {
            "cell_type": "code",
            "execution_count": 7,
            "metadata": {},
            "outputs": [
                {
                    "name": "stdout",
                    "output_type": "stream",
                    "text": [
                        "Country Origin codes with 'unknown' country names:\n",
                        "None found\n",
                        "\n",
                        "Country Current codes with 'unknown' country names:\n",
                        "None found\n",
                        "\n",
                        "Unique country_origin codes with 'unknown' country names:\n",
                        "\n",
                        "Unique country_current codes with 'unknown' country names:\n"
                    ]
                }
            ],
            "source": [
                "origin_mismatch = all_cats_df[\n",
                "    (all_cats_df[\"country_origin_name\"] == \"unknown\")\n",
                "    & (all_cats_df[\"country_origin\"] != \"unknown\")\n",
                "    & (~all_cats_df[\"country_origin\"].isna())\n",
                "]\n",
                "\n",
                "current_mismatch = all_cats_df[\n",
                "    (all_cats_df[\"country_current_name\"] == \"unknown\")\n",
                "    & (all_cats_df[\"country_current\"] != \"unknown\")\n",
                "    & (~all_cats_df[\"country_current\"].isna())\n",
                "]\n",
                "\n",
                "print(\"Country Origin codes with 'unknown' country names:\")\n",
                "if len(origin_mismatch) > 0:\n",
                "    print(origin_mismatch[\"country_origin\"].value_counts())\n",
                "else:\n",
                "    print(\"None found\")\n",
                "\n",
                "print(\"\\nCountry Current codes with 'unknown' country names:\")\n",
                "if len(current_mismatch) > 0:\n",
                "    print(current_mismatch[\"country_current\"].value_counts())\n",
                "else:\n",
                "    print(\"None found\")\n",
                "\n",
                "if len(origin_mismatch) > 0:\n",
                "    origin_percentage = len(origin_mismatch) / len(all_cats_df) * 100\n",
                "    print(\n",
                "        f\"\\nPercentage of rows with 'unknown' country_origin_name but valid country_origin: {origin_percentage:.2f}%\"\n",
                "    )\n",
                "\n",
                "if len(current_mismatch) > 0:\n",
                "    current_percentage = len(current_mismatch) / len(all_cats_df) * 100\n",
                "    print(\n",
                "        f\"Percentage of rows with 'unknown' country_current_name but valid country_current: {current_percentage:.2f}%\"\n",
                "    )\n",
                "\n",
                "unique_origin_mismatch = origin_mismatch[\"country_origin\"].unique()\n",
                "unique_current_mismatch = current_mismatch[\"country_current\"].unique()\n",
                "\n",
                "print(\"\\nUnique country_origin codes with 'unknown' country names:\")\n",
                "if len(unique_origin_mismatch) > 0:\n",
                "    print(unique_origin_mismatch)\n",
                "\n",
                "print(\"\\nUnique country_current codes with 'unknown' country names:\")\n",
                "if len(unique_current_mismatch) > 0:\n",
                "    print(unique_current_mismatch)"
            ]
        },
        {
            "cell_type": "markdown",
            "metadata": {},
            "source": [
                "### Registration_number_current\n"
            ]
        },
        {
            "cell_type": "markdown",
            "metadata": {},
            "source": [
                "Splits reg_nums into multiple files for easier manual checking.\n",
                "Then shows difference in number of missing values after removing bad reg_nums\n"
            ]
        },
        {
            "cell_type": "code",
            "execution_count": 8,
            "metadata": {},
            "outputs": [
                {
                    "data": {
                        "text/plain": [
                            "['Finland',\n",
                            " 'German Database',\n",
                            " 'Norway',\n",
                            " 'pawpeds',\n",
                            " 'DB Polska',\n",
                            " 'sibcat',\n",
                            " 'FFS_SK',\n",
                            " 'SVERAK',\n",
                            " 'TOP-CAT',\n",
                            " 'unknown']"
                        ]
                    },
                    "execution_count": 8,
                    "metadata": {},
                    "output_type": "execute_result"
                }
            ],
            "source": [
                "all_cats_df = pd.read_csv(f\"{data_path_processed}/all_cats_first_fixes.csv\", dtype=column_types, low_memory=False)\n",
                "all_cats_df[\"source_db_name\"].unique().tolist()"
            ]
        },
        {
            "cell_type": "markdown",
            "metadata": {},
            "source": [
                "Split data based on \"src_db\" column\n"
            ]
        },
        {
            "cell_type": "code",
            "execution_count": 9,
            "metadata": {},
            "outputs": [
                {
                    "name": "stdout",
                    "output_type": "stream",
                    "text": [
                        "Finland: 208822 records\n",
                        "German Database: 1 records\n",
                        "Norway: 188672 records\n",
                        "pawpeds: 1 records\n",
                        "DB Polska: 1 records\n",
                        "sibcat: 1 records\n",
                        "FFS_SK: 19602 records\n",
                        "SVERAK: 496314 records\n",
                        "TOP-CAT: 103112 records\n",
                        "unknown: 1 records\n"
                    ]
                }
            ],
            "source": [
                "def create_db_dataframes(df: pd.DataFrame) -> Dict[str, pd.DataFrame]:\n",
                "    \"\"\"\n",
                "    Create separate DataFrames for each src_db in the DataFrame.\n",
                "\n",
                "    :param df: DataFrame containing the data.\n",
                "    :returns: Dictionary where keys are src_db names and values are DataFrames.\n",
                "    \"\"\"\n",
                "    src_db_list = [\n",
                "        \"Finland\",\n",
                "        \"German Database\",\n",
                "        \"Norway\",\n",
                "        \"pawpeds\",\n",
                "        \"DB Polska\",\n",
                "        \"sibcat\",\n",
                "        \"FFS_SK\",\n",
                "        \"SVERAK\",\n",
                "        \"TOP-CAT\",\n",
                "        \"unknown\",\n",
                "    ]\n",
                "\n",
                "    src_db_frames = {}\n",
                "\n",
                "    for db in src_db_list:\n",
                "        filtered_df = df[df[\"source_db_name\"] == db][[\"registration_number_current\"]]\n",
                "\n",
                "        filtered_df = filtered_df.drop_duplicates(subset=[\"registration_number_current\"])\n",
                "        filtered_df = filtered_df.sort_values(by=[\"registration_number_current\"])\n",
                "        filtered_df = filtered_df.reset_index(drop=True)\n",
                "\n",
                "        src_db_frames[db] = filtered_df\n",
                "\n",
                "        print(f\"{db}: {len(filtered_df)} records\")\n",
                "\n",
                "    return src_db_frames\n",
                "\n",
                "\n",
                "src_db_frames = create_db_dataframes(all_cats_df)"
            ]
        },
        {
            "cell_type": "code",
            "execution_count": 10,
            "metadata": {},
            "outputs": [],
            "source": [
                "def output_dataframes(src_db_frames: Dict[str, pd.DataFrame], output_path=\"../../output/reg_num_initial\") -> None:\n",
                "    \"\"\"\n",
                "    Output the dataframes to CSV files.\n",
                "\n",
                "    :param src_db_frames: Dictionary of DataFrames to output.\n",
                "    \"\"\"\n",
                "    os.makedirs(\"../../output\", exist_ok=True)\n",
                "    os.makedirs(output_path, exist_ok=True)\n",
                "\n",
                "    for db_name, df in src_db_frames.items():\n",
                "        if len(df) == 1 and df[\"registration_number_current\"].iloc[0] == \"unknown\":\n",
                "            continue\n",
                "\n",
                "        filename = f\"{output_path}/{db_name.replace(' ', '_').replace('-', '_')}.csv\"\n",
                "        df.to_csv(filename, index=False)\n",
                "\n",
                "\n",
                "output_dataframes(src_db_frames)"
            ]
        },
        {
            "cell_type": "markdown",
            "metadata": {},
            "source": [
                "Export only \"registration_number_current\" that seems to resemble actual words\n"
            ]
        },
        {
            "cell_type": "code",
            "execution_count": 11,
            "metadata": {},
            "outputs": [],
            "source": [
                "def export_only_words(df: pd.DataFrame) -> pd.DataFrame:\n",
                "    \"\"\"\n",
                "    Export only registration_numbers_current that could mean some words.\n",
                "\n",
                "    :param df: DataFrame to filter.\n",
                "    :returns: DataFrame with only words.\n",
                "    \"\"\"\n",
                "\n",
                "    output_path = \"../../output/reg_num_initial/only_words.csv\"\n",
                "\n",
                "    os.makedirs(\"../../output\", exist_ok=True)\n",
                "    os.makedirs(os.path.dirname(output_path), exist_ok=True)\n",
                "\n",
                "    filtered_df = df[~df[\"registration_number_current\"].str.isnumeric()]\n",
                "    filtered_df = filtered_df[~filtered_df[\"registration_number_current\"].str.contains(r\"[\\/\\-\\.\\_\\(\\)№]\")]\n",
                "    filtered_df.to_csv(output_path, index=False)\n",
                "\n",
                "\n",
                "export_only_words(src_db_frames[\"TOP-CAT\"])"
            ]
        },
        {
            "cell_type": "code",
            "execution_count": 12,
            "metadata": {},
            "outputs": [],
            "source": [
                "def export_reg_num_with_parentheses(df: pd.DataFrame) -> None:\n",
                "    \"\"\"\n",
                "    Export all registration_number_current that have parentheses.\n",
                "\n",
                "    :param df: DataFrame to filter.\n",
                "    \"\"\"\n",
                "\n",
                "    output_path = \"../../output/reg_num_initial/registration_numbers_with_parentheses.csv\"\n",
                "\n",
                "    os.makedirs(\"../../output\", exist_ok=True)\n",
                "    os.makedirs(os.path.dirname(output_path), exist_ok=True)\n",
                "\n",
                "    filtered_df = df[df[\"registration_number_current\"].str.contains(r\"[\\(\\)]\", na=False)]\n",
                "    filtered_df = filtered_df[[\"registration_number_current\"]].drop_duplicates()\n",
                "    filtered_df = filtered_df.sort_values(by=\"registration_number_current\").reset_index(drop=True)\n",
                "    filtered_df.to_csv(output_path, index=False)\n",
                "\n",
                "\n",
                "export_reg_num_with_parentheses(all_cats_df)"
            ]
        },
        {
            "cell_type": "code",
            "execution_count": 13,
            "metadata": {},
            "outputs": [
                {
                    "name": "stdout",
                    "output_type": "stream",
                    "text": [
                        "Finland: 208765 records\n",
                        "German Database: 1 records\n",
                        "Norway: 188628 records\n",
                        "pawpeds: 1 records\n",
                        "DB Polska: 1 records\n",
                        "sibcat: 1 records\n",
                        "FFS_SK: 19602 records\n",
                        "SVERAK: 496314 records\n",
                        "TOP-CAT: 102996 records\n",
                        "unknown: 1 records\n"
                    ]
                }
            ],
            "source": [
                "fixed_cats = pd.read_csv(\n",
                "    f\"{data_path_processed}/all_cats_done.csv\",\n",
                "    dtype=column_types,\n",
                "    low_memory=False,\n",
                ")\n",
                "\n",
                "src_db_frames = create_db_dataframes(fixed_cats)\n",
                "output_dataframes(src_db_frames, output_path=\"../../output/reg_num_fixes\")"
            ]
        },
        {
            "cell_type": "code",
            "execution_count": 14,
            "metadata": {},
            "outputs": [
                {
                    "name": "stdout",
                    "output_type": "stream",
                    "text": [
                        "Number of 'unknown' values in 'registration_number_current': 1159606\n",
                        "Number of 'unknown' values in 'registration_number_current' after fixing: 1159874\n"
                    ]
                }
            ],
            "source": [
                "unknown_count = all_cats_df[\"registration_number_current\"].value_counts().get(\"unknown\", 0)\n",
                "print(f\"Number of 'unknown' values in 'registration_number_current': {unknown_count}\")\n",
                "\n",
                "unknown_count_fixed = fixed_cats[\"registration_number_current\"].value_counts().get(\"unknown\", 0)\n",
                "print(f\"Number of 'unknown' values in 'registration_number_current' after fixing: {unknown_count_fixed}\")"
            ]
        },
        {
            "cell_type": "markdown",
            "metadata": {},
            "source": [
                "### Correct mother/father names\n"
            ]
        },
        {
            "cell_type": "markdown",
            "metadata": {},
            "source": [
                "This section analyzes errors where a cat's ID is incorrectly set to be the same as its own father_id or mother_id.\n",
                "\n",
                "The analysis identifies these invalid records and reports their frequency in the dataset to help assess data quality issues.\n"
            ]
        },
        {
            "cell_type": "code",
            "execution_count": 15,
            "metadata": {},
            "outputs": [
                {
                    "name": "stdout",
                    "output_type": "stream",
                    "text": [
                        "\n",
                        "Father and Mother Check Analysis:\n",
                        "Father check: 2,183,839 cats (Valid)\n",
                        "Father check: 68 cats (Invalid)\n"
                    ]
                }
            ],
            "source": [
                "all_cats_df = pd.read_csv(\n",
                "    f\"{data_path_initial}/all_cats.csv\",\n",
                "    usecols=[\"id\", \"father_id\", \"mother_id\"],\n",
                "    dtype=column_types,\n",
                "    low_memory=False,\n",
                ")\n",
                "\n",
                "all_cats_df[\"father_check\"] = (all_cats_df[\"father_id\"] == all_cats_df[\"id\"]).fillna(False)\n",
                "all_cats_df[\"mother_check\"] = (all_cats_df[\"mother_id\"] == all_cats_df[\"id\"]).fillna(False)\n",
                "\n",
                "father_check_counts = all_cats_df[\"father_check\"].value_counts()\n",
                "mother_check_counts = all_cats_df[\"mother_check\"].value_counts()\n",
                "\n",
                "print(\"\\nFather and Mother Check Analysis:\")\n",
                "for value in father_check_counts.index:\n",
                "    count = father_check_counts[value]\n",
                "    status = \"Invalid\" if value else \"Valid\"\n",
                "    print(f\"Father check: {count:,} cats ({status})\")"
            ]
        },
        {
            "cell_type": "markdown",
            "metadata": {},
            "source": [
                "### Unknown cat names\n"
            ]
        },
        {
            "cell_type": "code",
            "execution_count": 16,
            "metadata": {},
            "outputs": [],
            "source": [
                "all_cats_df = pd.read_csv(\n",
                "    f\"{data_path_initial}/all_cats.csv\",\n",
                "    usecols=[\"id\", \"name\"],\n",
                "    dtype=column_types,\n",
                "    low_memory=False,\n",
                ")\n",
                "\n",
                "all_cats_df[\"name\"] = all_cats_df[\"name\"].fillna(\"Unknown cat name\")\n",
                "all_cats_df[\"name_prefix\"] = all_cats_df[\"name\"].str.split(\" \").str[0]"
            ]
        },
        {
            "cell_type": "code",
            "execution_count": 17,
            "metadata": {},
            "outputs": [],
            "source": [
                "unique_prefixes = sorted(all_cats_df[\"name_prefix\"].unique())\n",
                "\n",
                "short_prefixes = [prefix for prefix in unique_prefixes if len(prefix) < 5]\n",
                "\n",
                "output_dir = \"../../output\"\n",
                "os.makedirs(output_dir, exist_ok=True)\n",
                "output_path = os.path.join(output_dir, \"unique_name_prefixes.txt\")\n",
                "\n",
                "try:\n",
                "    with open(output_path, \"w\", encoding=\"utf-8\") as f:\n",
                "        for prefix in short_prefixes:\n",
                "            f.write(prefix + \"\\n\")\n",
                "except Exception as e:\n",
                "    print(f\"Error writing to file: {e}\")"
            ]
        },
        {
            "cell_type": "code",
            "execution_count": 18,
            "metadata": {},
            "outputs": [
                {
                    "data": {
                        "application/vnd.microsoft.datawrangler.viewer.v0+json": {
                            "columns": [
                                {
                                    "name": "index",
                                    "rawType": "int64",
                                    "type": "integer"
                                },
                                {
                                    "name": "name_prefix",
                                    "rawType": "object",
                                    "type": "string"
                                },
                                {
                                    "name": "count",
                                    "rawType": "int64",
                                    "type": "integer"
                                }
                            ],
                            "conversionMethod": "pd.DataFrame",
                            "ref": "163e8973-6dea-4cad-90d7-0a8756ea26ce",
                            "rows": [
                                [
                                    "0",
                                    "of",
                                    "1619"
                                ],
                                [
                                    "1",
                                    "de",
                                    "1132"
                                ],
                                [
                                    "2",
                                    "van",
                                    "801"
                                ],
                                [
                                    "3",
                                    "von",
                                    "732"
                                ],
                                [
                                    "4",
                                    "z",
                                    "192"
                                ],
                                [
                                    "5",
                                    "del",
                                    "97"
                                ],
                                [
                                    "6",
                                    "di",
                                    "63"
                                ],
                                [
                                    "7",
                                    "od",
                                    "59"
                                ],
                                [
                                    "8",
                                    "iz",
                                    "58"
                                ],
                                [
                                    "9",
                                    "aus",
                                    "33"
                                ],
                                [
                                    "10",
                                    "el",
                                    "24"
                                ],
                                [
                                    "11",
                                    "al",
                                    "8"
                                ],
                                [
                                    "12",
                                    "ot",
                                    "5"
                                ]
                            ],
                            "shape": {
                                "columns": 2,
                                "rows": 13
                            }
                        },
                        "text/html": [
                            "<div>\n",
                            "<style scoped>\n",
                            "    .dataframe tbody tr th:only-of-type {\n",
                            "        vertical-align: middle;\n",
                            "    }\n",
                            "\n",
                            "    .dataframe tbody tr th {\n",
                            "        vertical-align: top;\n",
                            "    }\n",
                            "\n",
                            "    .dataframe thead th {\n",
                            "        text-align: right;\n",
                            "    }\n",
                            "</style>\n",
                            "<table border=\"1\" class=\"dataframe\">\n",
                            "  <thead>\n",
                            "    <tr style=\"text-align: right;\">\n",
                            "      <th></th>\n",
                            "      <th>name_prefix</th>\n",
                            "      <th>count</th>\n",
                            "    </tr>\n",
                            "  </thead>\n",
                            "  <tbody>\n",
                            "    <tr>\n",
                            "      <th>0</th>\n",
                            "      <td>of</td>\n",
                            "      <td>1619</td>\n",
                            "    </tr>\n",
                            "    <tr>\n",
                            "      <th>1</th>\n",
                            "      <td>de</td>\n",
                            "      <td>1132</td>\n",
                            "    </tr>\n",
                            "    <tr>\n",
                            "      <th>2</th>\n",
                            "      <td>van</td>\n",
                            "      <td>801</td>\n",
                            "    </tr>\n",
                            "    <tr>\n",
                            "      <th>3</th>\n",
                            "      <td>von</td>\n",
                            "      <td>732</td>\n",
                            "    </tr>\n",
                            "    <tr>\n",
                            "      <th>4</th>\n",
                            "      <td>z</td>\n",
                            "      <td>192</td>\n",
                            "    </tr>\n",
                            "    <tr>\n",
                            "      <th>5</th>\n",
                            "      <td>del</td>\n",
                            "      <td>97</td>\n",
                            "    </tr>\n",
                            "    <tr>\n",
                            "      <th>6</th>\n",
                            "      <td>di</td>\n",
                            "      <td>63</td>\n",
                            "    </tr>\n",
                            "    <tr>\n",
                            "      <th>7</th>\n",
                            "      <td>od</td>\n",
                            "      <td>59</td>\n",
                            "    </tr>\n",
                            "    <tr>\n",
                            "      <th>8</th>\n",
                            "      <td>iz</td>\n",
                            "      <td>58</td>\n",
                            "    </tr>\n",
                            "    <tr>\n",
                            "      <th>9</th>\n",
                            "      <td>aus</td>\n",
                            "      <td>33</td>\n",
                            "    </tr>\n",
                            "    <tr>\n",
                            "      <th>10</th>\n",
                            "      <td>el</td>\n",
                            "      <td>24</td>\n",
                            "    </tr>\n",
                            "    <tr>\n",
                            "      <th>11</th>\n",
                            "      <td>al</td>\n",
                            "      <td>8</td>\n",
                            "    </tr>\n",
                            "    <tr>\n",
                            "      <th>12</th>\n",
                            "      <td>ot</td>\n",
                            "      <td>5</td>\n",
                            "    </tr>\n",
                            "  </tbody>\n",
                            "</table>\n",
                            "</div>"
                        ],
                        "text/plain": [
                            "   name_prefix  count\n",
                            "0           of   1619\n",
                            "1           de   1132\n",
                            "2          van    801\n",
                            "3          von    732\n",
                            "4            z    192\n",
                            "5          del     97\n",
                            "6           di     63\n",
                            "7           od     59\n",
                            "8           iz     58\n",
                            "9          aus     33\n",
                            "10          el     24\n",
                            "11          al      8\n",
                            "12          ot      5"
                        ]
                    },
                    "execution_count": 18,
                    "metadata": {},
                    "output_type": "execute_result"
                }
            ],
            "source": [
                "\"\"\"\n",
                "Prefix\t    Language\n",
                "\"of\"\t    English\n",
                "\"de\"\t    French/Spanish/Portuguese\n",
                "\"van\"\t    Dutch\n",
                "\"von\"\t    German\n",
                "\"z\"\t        Polish/Czech\n",
                "\"del\"\t    Spanish/Italian\n",
                "\"di\"\t    Italian\n",
                "\"od\"\t    Croatian/Serbian/Bosnian\n",
                "\"iz\" (из)\tRussian\n",
                "\"aus\"\t    German\n",
                "\"el\"\t    Arabic/Spanish\n",
                "\"al\"\t    Arabic\n",
                "\"ot\" (от)\tRussian\n",
                "\"\"\"\n",
                "\n",
                "prefix_list = [\"of\", \"de\", \"van\", \"von\", \"z\", \"del\", \"di\", \"od\", \"iz\", \"el\", \"al\", \"ot\", \"auf\", \"aus\", \"из\", \"от\"]\n",
                "prefix_counts = all_cats_df[\"name_prefix\"].value_counts()\n",
                "prefix_counts = prefix_counts[prefix_counts.index.isin(prefix_list)]\n",
                "prefix_counts = prefix_counts.reset_index()\n",
                "\n",
                "prefix_counts"
            ]
        },
        {
            "cell_type": "code",
            "execution_count": 19,
            "metadata": {},
            "outputs": [
                {
                    "name": "stdout",
                    "output_type": "stream",
                    "text": [
                        "Prefixes in dataset:\n",
                        "of\n",
                        "de\n",
                        "van\n",
                        "von\n",
                        "z\n",
                        "del\n",
                        "di\n",
                        "od\n",
                        "iz\n",
                        "aus\n",
                        "el\n",
                        "al\n",
                        "ot\n",
                        "---------------------------------------------\n",
                        "Prefixes not in dataset:\n",
                        "auf\n",
                        "из\n",
                        "от\n"
                    ]
                }
            ],
            "source": [
                "print(\"Prefixes in dataset:\")\n",
                "for _, row in prefix_counts.iterrows():\n",
                "    print(row[\"name_prefix\"])\n",
                "\n",
                "print(\"-\" * 45)\n",
                "print(\"Prefixes not in dataset:\")\n",
                "for prefix in prefix_list:\n",
                "    if prefix not in prefix_counts[\"name_prefix\"].values:\n",
                "        print(prefix)"
            ]
        },
        {
            "cell_type": "markdown",
            "metadata": {},
            "source": [
                "## After phase 3\n"
            ]
        },
        {
            "cell_type": "markdown",
            "metadata": {},
            "source": [
                "### Missing values\n"
            ]
        },
        {
            "cell_type": "markdown",
            "metadata": {},
            "source": [
                "Missing values (NA, NaN, None).\n"
            ]
        },
        {
            "cell_type": "code",
            "execution_count": 20,
            "metadata": {},
            "outputs": [
                {
                    "data": {
                        "text/html": [
                            "\n",
                            "        <iframe\n",
                            "            width=\"100%\"\n",
                            "            height=\"650\"\n",
                            "            src=\"http://127.0.0.1:8050/\"\n",
                            "            frameborder=\"0\"\n",
                            "            allowfullscreen\n",
                            "            \n",
                            "        ></iframe>\n",
                            "        "
                        ],
                        "text/plain": [
                            "<IPython.lib.display.IFrame at 0x24cfc4b0650>"
                        ]
                    },
                    "metadata": {},
                    "output_type": "display_data"
                }
            ],
            "source": [
                "def show_missing_values():\n",
                "    all_cats_df = pd.read_csv(\n",
                "        f\"{data_path_processed}/all_cats_first_fixes.csv\", dtype=column_types, low_memory=False\n",
                "    )\n",
                "\n",
                "    missing_values = all_cats_df.isnull().mean() * 100\n",
                "    missing_values = missing_values.sort_values(ascending=False)\n",
                "\n",
                "    app = Dash(\"NaN_values\")\n",
                "\n",
                "    fig = px.bar(\n",
                "        x=missing_values.index,\n",
                "        y=missing_values.values,\n",
                "        title=\"Percentage of Missing Values by Column\",\n",
                "        labels={\"x\": \"Columns\", \"y\": \"Missing Values (%)\"},\n",
                "    )\n",
                "\n",
                "    fig.update_traces(\n",
                "        text=missing_values.values.round(0),\n",
                "    )\n",
                "\n",
                "    app.layout = html.Div([dcc.Graph(id=\"missing-values-graph\", figure=fig)])\n",
                "    app.run()\n",
                "\n",
                "\n",
                "show_missing_values()"
            ]
        },
        {
            "cell_type": "markdown",
            "metadata": {},
            "source": [
                "Missing values (unknown, -1, ...)\n"
            ]
        },
        {
            "cell_type": "code",
            "execution_count": 21,
            "metadata": {},
            "outputs": [
                {
                    "data": {
                        "text/html": [
                            "\n",
                            "        <iframe\n",
                            "            width=\"100%\"\n",
                            "            height=\"650\"\n",
                            "            src=\"http://127.0.0.1:8050/\"\n",
                            "            frameborder=\"0\"\n",
                            "            allowfullscreen\n",
                            "            \n",
                            "        ></iframe>\n",
                            "        "
                        ],
                        "text/plain": [
                            "<IPython.lib.display.IFrame at 0x24cfc4be960>"
                        ]
                    },
                    "metadata": {},
                    "output_type": "display_data"
                }
            ],
            "source": [
                "def show_missing_values():\n",
                "    all_cats_df = pd.read_csv(\n",
                "        f\"{data_path_processed}/all_cats_first_fixes.csv\", dtype=column_types, low_memory=False\n",
                "    )\n",
                "\n",
                "    date_placeholder = \"1111-11-11 00:00:00\"\n",
                "    unknown_placeholder = \"unknown\"\n",
                "    name_placeholder = \"Unknown cat name\"\n",
                "    number_placeholder = -1\n",
                "\n",
                "    date_columns = [\"date_of_birth\"]\n",
                "    unknown_columns = [\n",
                "        \"gender\",\n",
                "        \"registration_number_current\",\n",
                "        \"src_db\",\n",
                "        \"cattery\",\n",
                "        \"breed_code\",\n",
                "        \"extracted_breed\",\n",
                "        \"colour_code\",\n",
                "        \"colour_definition\",\n",
                "        \"full_breed_name\",\n",
                "        \"group\",\n",
                "        \"category\",\n",
                "        \"country_origin\",\n",
                "        \"country_current\",\n",
                "        \"country_origin_name\",\n",
                "        \"country_current_name\",\n",
                "        \"title_after\",\n",
                "        \"title_before\",\n",
                "        \"chip\",\n",
                "    ]\n",
                "    name_columns = [\"name\"]\n",
                "    number_columns = [\"father_id\", \"mother_id\"]\n",
                "\n",
                "    missing_percentages = {}\n",
                "\n",
                "    for col in date_columns:\n",
                "        if col in all_cats_df.columns:\n",
                "            missing_percentages[col] = (all_cats_df[col] == date_placeholder).mean() * 100\n",
                "\n",
                "    for col in unknown_columns:\n",
                "        if col in all_cats_df.columns:\n",
                "            missing_percentages[col] = (all_cats_df[col] == unknown_placeholder).mean() * 100\n",
                "\n",
                "    for col in name_columns:\n",
                "        if col in all_cats_df.columns:\n",
                "            missing_percentages[col] = (all_cats_df[col] == name_placeholder).mean() * 100\n",
                "\n",
                "    for col in number_columns:\n",
                "        if col in all_cats_df.columns:\n",
                "            missing_percentages[col] = (all_cats_df[col] == number_placeholder).mean() * 100\n",
                "\n",
                "    missing_df = pd.DataFrame(\n",
                "        {\n",
                "            \"column\": list(missing_percentages.keys()),\n",
                "            \"percent_missing\": list(missing_percentages.values()),\n",
                "        }\n",
                "    )\n",
                "\n",
                "    missing_df = missing_df[missing_df[\"percent_missing\"] > 0]\n",
                "\n",
                "    missing_df = missing_df.sort_values(by=\"percent_missing\", ascending=False)\n",
                "\n",
                "    app = Dash(\"Placeholder_values\")\n",
                "\n",
                "    fig = px.bar(\n",
                "        missing_df,\n",
                "        x=\"column\",\n",
                "        y=\"percent_missing\",\n",
                "        title=\"Missing Values by Column\",\n",
                "        labels={\n",
                "            \"column\": \"Columns\",\n",
                "            \"percent_missing\": \"Missing Values (%)\",\n",
                "        },\n",
                "        hover_data=[\"percent_missing\"],\n",
                "    )\n",
                "\n",
                "    fig.update_layout(xaxis_tickangle=-45, height=600)\n",
                "    fig.update_traces(texttemplate=\"%{y:.1f}%\", textposition=\"outside\")\n",
                "    app.layout = html.Div(\n",
                "        [\n",
                "            dcc.Graph(id=\"missing-values-graph\", figure=fig),\n",
                "        ]\n",
                "    )\n",
                "\n",
                "    app.run()\n",
                "\n",
                "\n",
                "show_missing_values()"
            ]
        },
        {
            "cell_type": "markdown",
            "metadata": {},
            "source": [
                "## During phase 5\n"
            ]
        },
        {
            "cell_type": "code",
            "execution_count": 22,
            "metadata": {},
            "outputs": [
                {
                    "data": {
                        "application/vnd.microsoft.datawrangler.viewer.v0+json": {
                            "columns": [
                                {
                                    "name": "index",
                                    "rawType": "int64",
                                    "type": "integer"
                                },
                                {
                                    "name": "country_name",
                                    "rawType": "object",
                                    "type": "string"
                                },
                                {
                                    "name": "country_codes",
                                    "rawType": "object",
                                    "type": "string"
                                }
                            ],
                            "conversionMethod": "pd.DataFrame",
                            "ref": "aaa1ff38-8a40-4ec9-acfa-fcd994544f8f",
                            "rows": [
                                [
                                    "0",
                                    "Afghanistan",
                                    "AFG"
                                ],
                                [
                                    "1",
                                    "Albania",
                                    "ALB"
                                ],
                                [
                                    "2",
                                    "Algeria",
                                    "DZA"
                                ],
                                [
                                    "3",
                                    "American Samoa",
                                    "ASM"
                                ],
                                [
                                    "4",
                                    "Anguilla",
                                    "AIA"
                                ],
                                [
                                    "5",
                                    "Argentina",
                                    "ARG"
                                ],
                                [
                                    "6",
                                    "Armenia",
                                    "ARM"
                                ],
                                [
                                    "7",
                                    "Australia",
                                    "AUS"
                                ],
                                [
                                    "8",
                                    "Austria",
                                    "AUT"
                                ],
                                [
                                    "9",
                                    "Barbados",
                                    "BRB"
                                ],
                                [
                                    "10",
                                    "Belarus",
                                    "BLR"
                                ],
                                [
                                    "11",
                                    "Belgium",
                                    "BEL"
                                ],
                                [
                                    "12",
                                    "Belize",
                                    "BLZ"
                                ],
                                [
                                    "13",
                                    "Benin",
                                    "BEN"
                                ],
                                [
                                    "14",
                                    "Bosnia and Herzegovina",
                                    "BIH"
                                ],
                                [
                                    "15",
                                    "Brazil",
                                    "BRA"
                                ],
                                [
                                    "16",
                                    "Brunei Darussalam",
                                    "BRN"
                                ],
                                [
                                    "17",
                                    "Bulgaria",
                                    "BGR"
                                ],
                                [
                                    "18",
                                    "Burkina Faso",
                                    "BFA"
                                ],
                                [
                                    "19",
                                    "Burundi",
                                    "BDI"
                                ],
                                [
                                    "20",
                                    "Cameroon",
                                    "CMR"
                                ],
                                [
                                    "21",
                                    "Canada",
                                    "CAN"
                                ],
                                [
                                    "22",
                                    "Cayman Islands",
                                    "CYM"
                                ],
                                [
                                    "23",
                                    "Central African Republic",
                                    "CAF"
                                ],
                                [
                                    "24",
                                    "Chile",
                                    "CHL"
                                ],
                                [
                                    "25",
                                    "China",
                                    "CHN"
                                ],
                                [
                                    "26",
                                    "Cocos Islands",
                                    "CCK"
                                ],
                                [
                                    "27",
                                    "Colombia",
                                    "COL"
                                ],
                                [
                                    "28",
                                    "Comoros",
                                    "COM"
                                ],
                                [
                                    "29",
                                    "Cook Islands",
                                    "COK"
                                ],
                                [
                                    "30",
                                    "Costa Rica",
                                    "CRI"
                                ],
                                [
                                    "31",
                                    "Croatia",
                                    "HRV"
                                ],
                                [
                                    "32",
                                    "Cuba",
                                    "CUB"
                                ],
                                [
                                    "33",
                                    "Cyprus",
                                    "CYP"
                                ],
                                [
                                    "34",
                                    "Czechia",
                                    "CZE"
                                ],
                                [
                                    "35",
                                    "Denmark",
                                    "DNK"
                                ],
                                [
                                    "36",
                                    "Djibouti",
                                    "DJI"
                                ],
                                [
                                    "37",
                                    "Ecuador",
                                    "ECU"
                                ],
                                [
                                    "38",
                                    "Egypt",
                                    "EGY"
                                ],
                                [
                                    "39",
                                    "El Salvador",
                                    "SLV"
                                ],
                                [
                                    "40",
                                    "Eritrea",
                                    "ERI"
                                ],
                                [
                                    "41",
                                    "Estonia",
                                    "EST"
                                ],
                                [
                                    "42",
                                    "Faroe Islands",
                                    "FRO"
                                ],
                                [
                                    "43",
                                    "Finland",
                                    "FIN"
                                ],
                                [
                                    "44",
                                    "France",
                                    "FRA"
                                ],
                                [
                                    "45",
                                    "French Polynesia",
                                    "PYF"
                                ],
                                [
                                    "46",
                                    "Georgia",
                                    "GEO"
                                ],
                                [
                                    "47",
                                    "Germany",
                                    "DEU"
                                ],
                                [
                                    "48",
                                    "Ghana",
                                    "GHA"
                                ],
                                [
                                    "49",
                                    "Gibraltar",
                                    "GIB"
                                ]
                            ],
                            "shape": {
                                "columns": 2,
                                "rows": 149
                            }
                        },
                        "text/html": [
                            "<div>\n",
                            "<style scoped>\n",
                            "    .dataframe tbody tr th:only-of-type {\n",
                            "        vertical-align: middle;\n",
                            "    }\n",
                            "\n",
                            "    .dataframe tbody tr th {\n",
                            "        vertical-align: top;\n",
                            "    }\n",
                            "\n",
                            "    .dataframe thead th {\n",
                            "        text-align: right;\n",
                            "    }\n",
                            "</style>\n",
                            "<table border=\"1\" class=\"dataframe\">\n",
                            "  <thead>\n",
                            "    <tr style=\"text-align: right;\">\n",
                            "      <th></th>\n",
                            "      <th>country_name</th>\n",
                            "      <th>country_codes</th>\n",
                            "    </tr>\n",
                            "  </thead>\n",
                            "  <tbody>\n",
                            "    <tr>\n",
                            "      <th>0</th>\n",
                            "      <td>Afghanistan</td>\n",
                            "      <td>AFG</td>\n",
                            "    </tr>\n",
                            "    <tr>\n",
                            "      <th>1</th>\n",
                            "      <td>Albania</td>\n",
                            "      <td>ALB</td>\n",
                            "    </tr>\n",
                            "    <tr>\n",
                            "      <th>2</th>\n",
                            "      <td>Algeria</td>\n",
                            "      <td>DZA</td>\n",
                            "    </tr>\n",
                            "    <tr>\n",
                            "      <th>3</th>\n",
                            "      <td>American Samoa</td>\n",
                            "      <td>ASM</td>\n",
                            "    </tr>\n",
                            "    <tr>\n",
                            "      <th>4</th>\n",
                            "      <td>Anguilla</td>\n",
                            "      <td>AIA</td>\n",
                            "    </tr>\n",
                            "    <tr>\n",
                            "      <th>...</th>\n",
                            "      <td>...</td>\n",
                            "      <td>...</td>\n",
                            "    </tr>\n",
                            "    <tr>\n",
                            "      <th>144</th>\n",
                            "      <td>Ukraine</td>\n",
                            "      <td>UKR</td>\n",
                            "    </tr>\n",
                            "    <tr>\n",
                            "      <th>145</th>\n",
                            "      <td>United Arab Emirates</td>\n",
                            "      <td>ARE</td>\n",
                            "    </tr>\n",
                            "    <tr>\n",
                            "      <th>146</th>\n",
                            "      <td>United Kingdom</td>\n",
                            "      <td>GBR</td>\n",
                            "    </tr>\n",
                            "    <tr>\n",
                            "      <th>147</th>\n",
                            "      <td>United States of America</td>\n",
                            "      <td>USA</td>\n",
                            "    </tr>\n",
                            "    <tr>\n",
                            "      <th>148</th>\n",
                            "      <td>Vanuatu</td>\n",
                            "      <td>VUT</td>\n",
                            "    </tr>\n",
                            "  </tbody>\n",
                            "</table>\n",
                            "<p>149 rows × 2 columns</p>\n",
                            "</div>"
                        ],
                        "text/plain": [
                            "                 country_name country_codes\n",
                            "0                 Afghanistan           AFG\n",
                            "1                     Albania           ALB\n",
                            "2                     Algeria           DZA\n",
                            "3              American Samoa           ASM\n",
                            "4                    Anguilla           AIA\n",
                            "..                        ...           ...\n",
                            "144                   Ukraine           UKR\n",
                            "145      United Arab Emirates           ARE\n",
                            "146            United Kingdom           GBR\n",
                            "147  United States of America           USA\n",
                            "148                   Vanuatu           VUT\n",
                            "\n",
                            "[149 rows x 2 columns]"
                        ]
                    },
                    "execution_count": 22,
                    "metadata": {},
                    "output_type": "execute_result"
                }
            ],
            "source": [
                "def display_country_code_mappings() -> pd.DataFrame:\n",
                "    \"\"\"\n",
                "    Display a mapping between country names and all their associated codes\n",
                "    found in the dataset.\n",
                "    \"\"\"\n",
                "    df = pd.read_csv(\n",
                "        f\"{data_path_processed}/all_cats_done.csv\",\n",
                "        usecols=[\"country_origin_name\", \"country_origin\", \"country_current_name\", \"country_current\"],\n",
                "        dtype=column_types,\n",
                "        low_memory=False,\n",
                "    )\n",
                "\n",
                "    name_to_codes = {}\n",
                "\n",
                "    for name, code in zip(df[\"country_origin_name\"], df[\"country_origin\"]):\n",
                "        if name != \"unknown\" and code != \"unknown\":\n",
                "            if name not in name_to_codes:\n",
                "                name_to_codes[name] = set()\n",
                "            name_to_codes[name].add(code)\n",
                "\n",
                "    for name, code in zip(df[\"country_current_name\"], df[\"country_current\"]):\n",
                "        if name != \"unknown\" and code != \"unknown\":\n",
                "            if name not in name_to_codes:\n",
                "                name_to_codes[name] = set()\n",
                "            name_to_codes[name].add(code)\n",
                "\n",
                "    result_data = []\n",
                "    for name in sorted(name_to_codes.keys()):\n",
                "        result_data.append({\"country_name\": name, \"country_codes\": \", \".join(sorted(name_to_codes[name]))})\n",
                "\n",
                "    return pd.DataFrame(result_data)\n",
                "\n",
                "\n",
                "display_country_code_mappings()"
            ]
        },
        {
            "cell_type": "markdown",
            "metadata": {},
            "source": [
                "## Later\n"
            ]
        },
        {
            "cell_type": "code",
            "execution_count": 23,
            "metadata": {},
            "outputs": [
                {
                    "name": "stdout",
                    "output_type": "stream",
                    "text": [
                        "Loading data...\n",
                        "\n",
                        "ID Range Analysis:\n",
                        "Min ID: 1\n",
                        "Max ID: 2,189,480\n",
                        "Total unique IDs: 2,183,907\n",
                        "Expected IDs in range: 2,189,480\n",
                        "\n",
                        "Gap Analysis:\n",
                        "Number of gaps: 5,573 (0.25% of ID range)\n"
                    ]
                }
            ],
            "source": [
                "def analyze_id_gaps():\n",
                "    \"\"\"\n",
                "    Analyze if there are gaps in the 'id' column sequence.\n",
                "    Reports statistics about gaps and visualizes them if present.\n",
                "    \"\"\"\n",
                "    print(\"Loading data...\")\n",
                "    all_cats_df = pd.read_csv(\n",
                "        f\"{data_path_initial}/all_cats.csv\", usecols=[\"id\"], dtype=column_types, low_memory=False\n",
                "    )\n",
                "\n",
                "    all_cats_df = all_cats_df.sort_values(by=\"id\").drop_duplicates()\n",
                "\n",
                "    ids = all_cats_df[\"id\"].unique()\n",
                "    ids.sort()\n",
                "\n",
                "    expected_ids = np.arange(ids.min(), ids.max() + 1)\n",
                "    missing_ids = np.setdiff1d(expected_ids, ids)\n",
                "\n",
                "    print(\"\\nID Range Analysis:\")\n",
                "    print(f\"Min ID: {ids.min():,}\")\n",
                "    print(f\"Max ID: {ids.max():,}\")\n",
                "    print(f\"Total unique IDs: {len(ids):,}\")\n",
                "    print(f\"Expected IDs in range: {len(expected_ids):,}\")\n",
                "\n",
                "    if len(missing_ids) > 0:\n",
                "        gap_percentage = (len(missing_ids) / len(expected_ids)) * 100\n",
                "        print(\"\\nGap Analysis:\")\n",
                "        print(f\"Number of gaps: {len(missing_ids):,} ({gap_percentage:.2f}% of ID range)\")\n",
                "    else:\n",
                "        print(\"\\nNo gaps found in the ID sequence!\")\n",
                "\n",
                "\n",
                "analyze_id_gaps()"
            ]
        }
    ],
    "metadata": {
        "kernelspec": {
            "display_name": "BachelorProject_Babiar",
            "language": "python",
            "name": "python3"
        },
        "language_info": {
            "codemirror_mode": {
                "name": "ipython",
                "version": 3
            },
            "file_extension": ".py",
            "mimetype": "text/x-python",
            "name": "python",
            "nbconvert_exporter": "python",
            "pygments_lexer": "ipython3",
            "version": "3.12.10"
        }
    },
    "nbformat": 4,
    "nbformat_minor": 2
}
